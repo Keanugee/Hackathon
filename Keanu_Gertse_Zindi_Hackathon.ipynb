{
  "nbformat": 4,
  "nbformat_minor": 0,
  "metadata": {
    "colab": {
      "name": "Keanu_Gertse_Zindi_Hackathon",
      "version": "0.3.2",
      "provenance": [],
      "collapsed_sections": [],
      "include_colab_link": true
    },
    "kernelspec": {
      "name": "python3",
      "display_name": "Python 3"
    },
    "accelerator": "GPU"
  },
  "cells": [
    {
      "cell_type": "markdown",
      "metadata": {
        "id": "view-in-github",
        "colab_type": "text"
      },
      "source": [
        "<a href=\"https://colab.research.google.com/github/Keanugee/mypackage/blob/master/Keanu_Gertse_Zindi_Hackathon.ipynb\" target=\"_parent\"><img src=\"https://colab.research.google.com/assets/colab-badge.svg\" alt=\"Open In Colab\"/></a>"
      ]
    },
    {
      "cell_type": "code",
      "metadata": {
        "id": "QS-3CBf5ONXB",
        "colab_type": "code",
        "outputId": "930bda91-fbd5-4cd6-d4e5-1ae33f0cc34b",
        "colab": {
          "base_uri": "https://localhost:8080/",
          "height": 229
        }
      },
      "source": [
        "from google.colab import drive\n",
        "drive.mount('/content/gdrive')"
      ],
      "execution_count": 0,
      "outputs": [
        {
          "output_type": "stream",
          "text": [
            "Go to this URL in a browser: https://accounts.google.com/o/oauth2/auth?client_id=947318989803-6bn6qk8qdgf4n4g3pfee6491hc0brc4i.apps.googleusercontent.com&redirect_uri=urn%3Aietf%3Awg%3Aoauth%3A2.0%3Aoob&scope=email%20https%3A%2F%2Fwww.googleapis.com%2Fauth%2Fdocs.test%20https%3A%2F%2Fwww.googleapis.com%2Fauth%2Fdrive%20https%3A%2F%2Fwww.googleapis.com%2Fauth%2Fdrive.photos.readonly%20https%3A%2F%2Fwww.googleapis.com%2Fauth%2Fpeopleapi.readonly&response_type=code\n",
            "\n",
            "Enter your authorization code:\n",
            "··········\n",
            "Mounted at /content/gdrive\n"
          ],
          "name": "stdout"
        }
      ]
    },
    {
      "cell_type": "code",
      "metadata": {
        "id": "BQ0Tk6Y0Ouhe",
        "colab_type": "code",
        "colab": {}
      },
      "source": [
        "import numpy as np \n",
        "import matplotlib.pyplot as plt\n",
        "import seaborn as sns\n",
        "import pandas as pd\n",
        "from sklearn.linear_model import LogisticRegression\n",
        "from sklearn.svm import LinearSVC\n",
        "from sklearn.naive_bayes import MultinomialNB\n",
        "from sklearn.neighbors import KNeighborsClassifier\n",
        "import re\n",
        "import unicodedata\n",
        "# from emoji.unicode_codes import UNICODE_EMOJI\n",
        "# import emoji\n",
        "import nltk\n",
        "import xgboost\n",
        "from sklearn.svm import SVC"
      ],
      "execution_count": 0,
      "outputs": []
    },
    {
      "cell_type": "code",
      "metadata": {
        "id": "V2EONFNsPEQ4",
        "colab_type": "code",
        "colab": {}
      },
      "source": [
        "train = pd.read_csv('/content/gdrive/My Drive/Kaggle Hackathon/training.csv')\n",
        "test = pd.read_csv('/content/gdrive/My Drive/Kaggle Hackathon/test.csv')"
      ],
      "execution_count": 0,
      "outputs": []
    },
    {
      "cell_type": "code",
      "metadata": {
        "id": "23tXhWxY5SIh",
        "colab_type": "code",
        "colab": {}
      },
      "source": [
        "test_id = test['TransactionId']"
      ],
      "execution_count": 0,
      "outputs": []
    },
    {
      "cell_type": "code",
      "metadata": {
        "id": "IGi3D1xCmMUV",
        "colab_type": "code",
        "outputId": "6053dade-b867-4afb-fad0-ab13fc1dcb2c",
        "colab": {
          "base_uri": "https://localhost:8080/",
          "height": 33
        }
      },
      "source": [
        "test_id.shape"
      ],
      "execution_count": 4,
      "outputs": [
        {
          "output_type": "execute_result",
          "data": {
            "text/plain": [
              "(45019,)"
            ]
          },
          "metadata": {
            "tags": []
          },
          "execution_count": 4
        }
      ]
    },
    {
      "cell_type": "code",
      "metadata": {
        "id": "ppS-IcqOQCxe",
        "colab_type": "code",
        "colab": {}
      },
      "source": [
        "train['TransactionStartTime'] = train['TransactionStartTime'].apply(str)\n",
        "test['TransactionStartTime'] = test['TransactionStartTime'].apply(str)"
      ],
      "execution_count": 0,
      "outputs": []
    },
    {
      "cell_type": "code",
      "metadata": {
        "id": "LzNBtelRuVP1",
        "colab_type": "code",
        "colab": {}
      },
      "source": [
        "train['TransactionStartTime'] = train['TransactionStartTime'].str.replace(r'[a-zA-Z]', ' ')\n",
        "test['TransactionStartTime'] = test['TransactionStartTime'].str.replace(r'[a-zA-Z]', ' ')"
      ],
      "execution_count": 0,
      "outputs": []
    },
    {
      "cell_type": "code",
      "metadata": {
        "id": "f3ELG8Ba57GW",
        "colab_type": "code",
        "colab": {}
      },
      "source": [
        "train['Time'] = train.TransactionStartTime.apply(lambda x: x[11:19])\n",
        "test['Time'] = test.TransactionStartTime.apply(lambda x: x[11:19])"
      ],
      "execution_count": 0,
      "outputs": []
    },
    {
      "cell_type": "code",
      "metadata": {
        "id": "Hkq8oN7F7S-H",
        "colab_type": "code",
        "colab": {}
      },
      "source": [
        "train['seconds'] = pd.to_timedelta(train['Time']).dt.seconds\n",
        "test['seconds'] = pd.to_timedelta(test['Time']).dt.seconds"
      ],
      "execution_count": 0,
      "outputs": []
    },
    {
      "cell_type": "code",
      "metadata": {
        "id": "-5Ye3JW5KpiK",
        "colab_type": "code",
        "colab": {}
      },
      "source": [
        "# train['diff_seconds'] = train['seconds'].diff()"
      ],
      "execution_count": 0,
      "outputs": []
    },
    {
      "cell_type": "code",
      "metadata": {
        "id": "h__bYde3-V6v",
        "colab_type": "code",
        "colab": {}
      },
      "source": [
        "# for i in range(train.shape[0]):\n",
        "#   train['diff_seconds'][i+1] = train['seconds'][i+1] - train['seconds'][i]"
      ],
      "execution_count": 0,
      "outputs": []
    },
    {
      "cell_type": "code",
      "metadata": {
        "id": "2EDn41LNHRhv",
        "colab_type": "code",
        "colab": {}
      },
      "source": [
        "# train = train.drop('diff_seconds', axis = 1)"
      ],
      "execution_count": 0,
      "outputs": []
    },
    {
      "cell_type": "code",
      "metadata": {
        "id": "K819mLYX8hDB",
        "colab_type": "code",
        "outputId": "51082c28-b3da-4d31-b4cf-37f8817da6b2",
        "colab": {
          "base_uri": "https://localhost:8080/",
          "height": 34
        }
      },
      "source": [
        "# train[train['FraudResult'] == 1]['ChannelId'].unique()"
      ],
      "execution_count": 0,
      "outputs": [
        {
          "output_type": "execute_result",
          "data": {
            "text/plain": [
              "193"
            ]
          },
          "metadata": {
            "tags": []
          },
          "execution_count": 268
        }
      ]
    },
    {
      "cell_type": "code",
      "metadata": {
        "id": "L74m39KjIrpk",
        "colab_type": "code",
        "colab": {}
      },
      "source": [
        "# train['diff_seconds'] = 0"
      ],
      "execution_count": 0,
      "outputs": []
    },
    {
      "cell_type": "code",
      "metadata": {
        "id": "rjBJ1CFLH5G8",
        "colab_type": "code",
        "colab": {}
      },
      "source": [
        "# for i in range(df.shape[0] - 1):\n",
        "#     df['time_diff'][i+1] = (datetime.datetime.min +  (df['concant_time'][i+1] - df['concant_time'][i])).time()\n",
        "\n",
        "# # .time() gets the time from datetime object, if you need both days and hours, simply use this line instead:\n",
        "# df['time_diff'][i+1] = df['concant_time'][i+1] - df['concant_time'][i]"
      ],
      "execution_count": 0,
      "outputs": []
    },
    {
      "cell_type": "code",
      "metadata": {
        "id": "u4ErlGo_9JlU",
        "colab_type": "code",
        "outputId": "a8385a11-0767-436f-e0f6-5906cc9d84af",
        "colab": {
          "base_uri": "https://localhost:8080/",
          "height": 211
        }
      },
      "source": [
        "train.head()"
      ],
      "execution_count": 9,
      "outputs": [
        {
          "output_type": "execute_result",
          "data": {
            "text/html": [
              "<div>\n",
              "<style scoped>\n",
              "    .dataframe tbody tr th:only-of-type {\n",
              "        vertical-align: middle;\n",
              "    }\n",
              "\n",
              "    .dataframe tbody tr th {\n",
              "        vertical-align: top;\n",
              "    }\n",
              "\n",
              "    .dataframe thead th {\n",
              "        text-align: right;\n",
              "    }\n",
              "</style>\n",
              "<table border=\"1\" class=\"dataframe\">\n",
              "  <thead>\n",
              "    <tr style=\"text-align: right;\">\n",
              "      <th></th>\n",
              "      <th>TransactionId</th>\n",
              "      <th>BatchId</th>\n",
              "      <th>AccountId</th>\n",
              "      <th>SubscriptionId</th>\n",
              "      <th>CustomerId</th>\n",
              "      <th>CurrencyCode</th>\n",
              "      <th>CountryCode</th>\n",
              "      <th>ProviderId</th>\n",
              "      <th>ProductId</th>\n",
              "      <th>ProductCategory</th>\n",
              "      <th>ChannelId</th>\n",
              "      <th>Amount</th>\n",
              "      <th>Value</th>\n",
              "      <th>TransactionStartTime</th>\n",
              "      <th>PricingStrategy</th>\n",
              "      <th>FraudResult</th>\n",
              "      <th>Time</th>\n",
              "      <th>seconds</th>\n",
              "    </tr>\n",
              "  </thead>\n",
              "  <tbody>\n",
              "    <tr>\n",
              "      <th>0</th>\n",
              "      <td>TransactionId_76871</td>\n",
              "      <td>BatchId_36123</td>\n",
              "      <td>AccountId_3957</td>\n",
              "      <td>SubscriptionId_887</td>\n",
              "      <td>CustomerId_4406</td>\n",
              "      <td>UGX</td>\n",
              "      <td>256</td>\n",
              "      <td>ProviderId_6</td>\n",
              "      <td>ProductId_10</td>\n",
              "      <td>airtime</td>\n",
              "      <td>ChannelId_3</td>\n",
              "      <td>1000.0</td>\n",
              "      <td>1000</td>\n",
              "      <td>2018-11-15 02:18:49</td>\n",
              "      <td>2</td>\n",
              "      <td>0</td>\n",
              "      <td>02:18:49</td>\n",
              "      <td>8329</td>\n",
              "    </tr>\n",
              "    <tr>\n",
              "      <th>1</th>\n",
              "      <td>TransactionId_73770</td>\n",
              "      <td>BatchId_15642</td>\n",
              "      <td>AccountId_4841</td>\n",
              "      <td>SubscriptionId_3829</td>\n",
              "      <td>CustomerId_4406</td>\n",
              "      <td>UGX</td>\n",
              "      <td>256</td>\n",
              "      <td>ProviderId_4</td>\n",
              "      <td>ProductId_6</td>\n",
              "      <td>financial_services</td>\n",
              "      <td>ChannelId_2</td>\n",
              "      <td>-20.0</td>\n",
              "      <td>20</td>\n",
              "      <td>2018-11-15 02:19:08</td>\n",
              "      <td>2</td>\n",
              "      <td>0</td>\n",
              "      <td>02:19:08</td>\n",
              "      <td>8348</td>\n",
              "    </tr>\n",
              "    <tr>\n",
              "      <th>2</th>\n",
              "      <td>TransactionId_26203</td>\n",
              "      <td>BatchId_53941</td>\n",
              "      <td>AccountId_4229</td>\n",
              "      <td>SubscriptionId_222</td>\n",
              "      <td>CustomerId_4683</td>\n",
              "      <td>UGX</td>\n",
              "      <td>256</td>\n",
              "      <td>ProviderId_6</td>\n",
              "      <td>ProductId_1</td>\n",
              "      <td>airtime</td>\n",
              "      <td>ChannelId_3</td>\n",
              "      <td>500.0</td>\n",
              "      <td>500</td>\n",
              "      <td>2018-11-15 02:44:21</td>\n",
              "      <td>2</td>\n",
              "      <td>0</td>\n",
              "      <td>02:44:21</td>\n",
              "      <td>9861</td>\n",
              "    </tr>\n",
              "    <tr>\n",
              "      <th>3</th>\n",
              "      <td>TransactionId_380</td>\n",
              "      <td>BatchId_102363</td>\n",
              "      <td>AccountId_648</td>\n",
              "      <td>SubscriptionId_2185</td>\n",
              "      <td>CustomerId_988</td>\n",
              "      <td>UGX</td>\n",
              "      <td>256</td>\n",
              "      <td>ProviderId_1</td>\n",
              "      <td>ProductId_21</td>\n",
              "      <td>utility_bill</td>\n",
              "      <td>ChannelId_3</td>\n",
              "      <td>20000.0</td>\n",
              "      <td>21800</td>\n",
              "      <td>2018-11-15 03:32:55</td>\n",
              "      <td>2</td>\n",
              "      <td>0</td>\n",
              "      <td>03:32:55</td>\n",
              "      <td>12775</td>\n",
              "    </tr>\n",
              "    <tr>\n",
              "      <th>4</th>\n",
              "      <td>TransactionId_28195</td>\n",
              "      <td>BatchId_38780</td>\n",
              "      <td>AccountId_4841</td>\n",
              "      <td>SubscriptionId_3829</td>\n",
              "      <td>CustomerId_988</td>\n",
              "      <td>UGX</td>\n",
              "      <td>256</td>\n",
              "      <td>ProviderId_4</td>\n",
              "      <td>ProductId_6</td>\n",
              "      <td>financial_services</td>\n",
              "      <td>ChannelId_2</td>\n",
              "      <td>-644.0</td>\n",
              "      <td>644</td>\n",
              "      <td>2018-11-15 03:34:21</td>\n",
              "      <td>2</td>\n",
              "      <td>0</td>\n",
              "      <td>03:34:21</td>\n",
              "      <td>12861</td>\n",
              "    </tr>\n",
              "  </tbody>\n",
              "</table>\n",
              "</div>"
            ],
            "text/plain": [
              "         TransactionId         BatchId  ...      Time seconds\n",
              "0  TransactionId_76871   BatchId_36123  ...  02:18:49    8329\n",
              "1  TransactionId_73770   BatchId_15642  ...  02:19:08    8348\n",
              "2  TransactionId_26203   BatchId_53941  ...  02:44:21    9861\n",
              "3    TransactionId_380  BatchId_102363  ...  03:32:55   12775\n",
              "4  TransactionId_28195   BatchId_38780  ...  03:34:21   12861\n",
              "\n",
              "[5 rows x 18 columns]"
            ]
          },
          "metadata": {
            "tags": []
          },
          "execution_count": 9
        }
      ]
    },
    {
      "cell_type": "code",
      "metadata": {
        "id": "Ar0V9gJlarhs",
        "colab_type": "code",
        "outputId": "74be25a0-e568-40cf-d3a0-8bbd89e86b3a",
        "colab": {
          "base_uri": "https://localhost:8080/",
          "height": 191
        }
      },
      "source": [
        "test.head()"
      ],
      "execution_count": 10,
      "outputs": [
        {
          "output_type": "execute_result",
          "data": {
            "text/html": [
              "<div>\n",
              "<style scoped>\n",
              "    .dataframe tbody tr th:only-of-type {\n",
              "        vertical-align: middle;\n",
              "    }\n",
              "\n",
              "    .dataframe tbody tr th {\n",
              "        vertical-align: top;\n",
              "    }\n",
              "\n",
              "    .dataframe thead th {\n",
              "        text-align: right;\n",
              "    }\n",
              "</style>\n",
              "<table border=\"1\" class=\"dataframe\">\n",
              "  <thead>\n",
              "    <tr style=\"text-align: right;\">\n",
              "      <th></th>\n",
              "      <th>TransactionId</th>\n",
              "      <th>BatchId</th>\n",
              "      <th>AccountId</th>\n",
              "      <th>SubscriptionId</th>\n",
              "      <th>CustomerId</th>\n",
              "      <th>CurrencyCode</th>\n",
              "      <th>CountryCode</th>\n",
              "      <th>ProviderId</th>\n",
              "      <th>ProductId</th>\n",
              "      <th>ProductCategory</th>\n",
              "      <th>ChannelId</th>\n",
              "      <th>Amount</th>\n",
              "      <th>Value</th>\n",
              "      <th>TransactionStartTime</th>\n",
              "      <th>PricingStrategy</th>\n",
              "      <th>Time</th>\n",
              "      <th>seconds</th>\n",
              "    </tr>\n",
              "  </thead>\n",
              "  <tbody>\n",
              "    <tr>\n",
              "      <th>0</th>\n",
              "      <td>TransactionId_50600</td>\n",
              "      <td>BatchId_35028</td>\n",
              "      <td>AccountId_2441</td>\n",
              "      <td>SubscriptionId_4426</td>\n",
              "      <td>CustomerId_2857</td>\n",
              "      <td>UGX</td>\n",
              "      <td>256</td>\n",
              "      <td>ProviderId_5</td>\n",
              "      <td>ProductId_3</td>\n",
              "      <td>airtime</td>\n",
              "      <td>ChannelId_3</td>\n",
              "      <td>1000.0</td>\n",
              "      <td>1000</td>\n",
              "      <td>2019-02-13 10:01:40</td>\n",
              "      <td>4</td>\n",
              "      <td>10:01:40</td>\n",
              "      <td>36100</td>\n",
              "    </tr>\n",
              "    <tr>\n",
              "      <th>1</th>\n",
              "      <td>TransactionId_95109</td>\n",
              "      <td>BatchId_45139</td>\n",
              "      <td>AccountId_3439</td>\n",
              "      <td>SubscriptionId_2643</td>\n",
              "      <td>CustomerId_3874</td>\n",
              "      <td>UGX</td>\n",
              "      <td>256</td>\n",
              "      <td>ProviderId_5</td>\n",
              "      <td>ProductId_15</td>\n",
              "      <td>financial_services</td>\n",
              "      <td>ChannelId_3</td>\n",
              "      <td>2000.0</td>\n",
              "      <td>2000</td>\n",
              "      <td>2019-02-13 10:02:12</td>\n",
              "      <td>2</td>\n",
              "      <td>10:02:12</td>\n",
              "      <td>36132</td>\n",
              "    </tr>\n",
              "    <tr>\n",
              "      <th>2</th>\n",
              "      <td>TransactionId_47357</td>\n",
              "      <td>BatchId_74887</td>\n",
              "      <td>AccountId_4841</td>\n",
              "      <td>SubscriptionId_3829</td>\n",
              "      <td>CustomerId_2857</td>\n",
              "      <td>UGX</td>\n",
              "      <td>256</td>\n",
              "      <td>ProviderId_4</td>\n",
              "      <td>ProductId_6</td>\n",
              "      <td>financial_services</td>\n",
              "      <td>ChannelId_2</td>\n",
              "      <td>-50.0</td>\n",
              "      <td>50</td>\n",
              "      <td>2019-02-13 10:02:30</td>\n",
              "      <td>2</td>\n",
              "      <td>10:02:30</td>\n",
              "      <td>36150</td>\n",
              "    </tr>\n",
              "    <tr>\n",
              "      <th>3</th>\n",
              "      <td>TransactionId_28185</td>\n",
              "      <td>BatchId_11025</td>\n",
              "      <td>AccountId_2685</td>\n",
              "      <td>SubscriptionId_4626</td>\n",
              "      <td>CustomerId_3105</td>\n",
              "      <td>UGX</td>\n",
              "      <td>256</td>\n",
              "      <td>ProviderId_5</td>\n",
              "      <td>ProductId_10</td>\n",
              "      <td>airtime</td>\n",
              "      <td>ChannelId_3</td>\n",
              "      <td>3000.0</td>\n",
              "      <td>3000</td>\n",
              "      <td>2019-02-13 10:02:38</td>\n",
              "      <td>4</td>\n",
              "      <td>10:02:38</td>\n",
              "      <td>36158</td>\n",
              "    </tr>\n",
              "    <tr>\n",
              "      <th>4</th>\n",
              "      <td>TransactionId_22140</td>\n",
              "      <td>BatchId_29804</td>\n",
              "      <td>AccountId_4841</td>\n",
              "      <td>SubscriptionId_3829</td>\n",
              "      <td>CustomerId_3105</td>\n",
              "      <td>UGX</td>\n",
              "      <td>256</td>\n",
              "      <td>ProviderId_4</td>\n",
              "      <td>ProductId_6</td>\n",
              "      <td>financial_services</td>\n",
              "      <td>ChannelId_2</td>\n",
              "      <td>-60.0</td>\n",
              "      <td>60</td>\n",
              "      <td>2019-02-13 10:02:58</td>\n",
              "      <td>2</td>\n",
              "      <td>10:02:58</td>\n",
              "      <td>36178</td>\n",
              "    </tr>\n",
              "  </tbody>\n",
              "</table>\n",
              "</div>"
            ],
            "text/plain": [
              "         TransactionId        BatchId  ...      Time seconds\n",
              "0  TransactionId_50600  BatchId_35028  ...  10:01:40   36100\n",
              "1  TransactionId_95109  BatchId_45139  ...  10:02:12   36132\n",
              "2  TransactionId_47357  BatchId_74887  ...  10:02:30   36150\n",
              "3  TransactionId_28185  BatchId_11025  ...  10:02:38   36158\n",
              "4  TransactionId_22140  BatchId_29804  ...  10:02:58   36178\n",
              "\n",
              "[5 rows x 17 columns]"
            ]
          },
          "metadata": {
            "tags": []
          },
          "execution_count": 10
        }
      ]
    },
    {
      "cell_type": "code",
      "metadata": {
        "id": "-7MGz0aWaTc4",
        "colab_type": "code",
        "colab": {}
      },
      "source": [
        "train = train.drop(['TransactionId', 'BatchId', 'AccountId', 'SubscriptionId', 'CustomerId', 'ChannelId', 'TransactionStartTime', 'Amount', 'Time', 'ProductId', 'CurrencyCode', 'CountryCode',  ], axis = 1)"
      ],
      "execution_count": 0,
      "outputs": []
    },
    {
      "cell_type": "code",
      "metadata": {
        "id": "ZVpHQ2tqmKmt",
        "colab_type": "code",
        "colab": {}
      },
      "source": [
        "train = train.drop('CountryCode', axis = 1)"
      ],
      "execution_count": 0,
      "outputs": []
    },
    {
      "cell_type": "code",
      "metadata": {
        "id": "XeMlXtjQvGKx",
        "colab_type": "code",
        "colab": {}
      },
      "source": [
        "test = test.drop(['TransactionId', 'BatchId', 'AccountId', 'SubscriptionId', 'CustomerId','ChannelId', 'TransactionStartTime', 'Amount', 'Time', 'ProductId', 'CurrencyCode', 'CountryCode'], axis = 1)"
      ],
      "execution_count": 0,
      "outputs": []
    },
    {
      "cell_type": "code",
      "metadata": {
        "id": "QET2iTcnShP6",
        "colab_type": "code",
        "colab": {}
      },
      "source": [
        "test = test.drop('CountryCode', axis = 1)"
      ],
      "execution_count": 0,
      "outputs": []
    },
    {
      "cell_type": "markdown",
      "metadata": {
        "id": "bUorVH62Srwa",
        "colab_type": "text"
      },
      "source": [
        "Standardising the data in the train and test data set "
      ]
    },
    {
      "cell_type": "code",
      "metadata": {
        "id": "jm7Lqp6OSt1h",
        "colab_type": "code",
        "colab": {}
      },
      "source": [
        "# Since most of our data has already been scaled we should scale the columns that are left to scale (Amount and Time)\n",
        "from sklearn.preprocessing import StandardScaler, RobustScaler\n",
        "\n",
        "# RobustScaler is less prone to outliers.\n",
        "\n",
        "std_scaler = StandardScaler()\n",
        "rob_scaler = RobustScaler()\n",
        "\n",
        "train['scaled_amount'] = rob_scaler.fit_transform(train['Value'].values.reshape(-1,1))\n",
        "# train['scaled_seconds'] = rob_scaler.fit_transform(train['seconds'].values.reshape(-1,1))\n",
        "\n",
        "train.drop(['Value'], axis=1, inplace=True)"
      ],
      "execution_count": 0,
      "outputs": []
    },
    {
      "cell_type": "code",
      "metadata": {
        "id": "AU24R6zwTAhE",
        "colab_type": "code",
        "colab": {}
      },
      "source": [
        "scaled_amount = train['scaled_amount']\n",
        "# scaled_time = train['scaled_seconds']\n",
        "\n",
        "train.drop('scaled_amount', axis=1, inplace=True)\n",
        "train.insert(0, 'scaled_amount', scaled_amount)\n",
        "# train.insert(1, 'scaled_seconds', scaled_time)\n"
      ],
      "execution_count": 0,
      "outputs": []
    },
    {
      "cell_type": "code",
      "metadata": {
        "id": "HXU238RxbxAo",
        "colab_type": "code",
        "colab": {}
      },
      "source": [
        "# Since most of our data has already been scaled we should scale the columns that are left to scale (Amount and Time)\n",
        "from sklearn.preprocessing import StandardScaler, RobustScaler\n",
        "\n",
        "# RobustScaler is less prone to outliers.\n",
        "\n",
        "std_scaler = StandardScaler()\n",
        "rob_scaler = RobustScaler()\n",
        "\n",
        "test['scaled_amount'] = rob_scaler.fit_transform(test['Value'].values.reshape(-1,1))\n",
        "# test['scaled_seconds'] = rob_scaler.fit_transform(test['seconds'].values.reshape(-1,1))\n",
        "\n",
        "test.drop(['Value'], axis=1, inplace=True)"
      ],
      "execution_count": 0,
      "outputs": []
    },
    {
      "cell_type": "code",
      "metadata": {
        "id": "O67jfZRoby-E",
        "colab_type": "code",
        "colab": {}
      },
      "source": [
        "scaled_amount = test['scaled_amount']\n",
        "# scaled_time = test['scaled_seconds']\n",
        "\n",
        "test.drop(['scaled_amount'], axis=1, inplace=True)\n",
        "test.insert(0, 'scaled_amount', scaled_amount)\n",
        "# test.insert(1, 'scaled_seconds', scaled_time)"
      ],
      "execution_count": 0,
      "outputs": []
    },
    {
      "cell_type": "code",
      "metadata": {
        "id": "jXCPLXncTiQ2",
        "colab_type": "code",
        "outputId": "a131c400-3f0f-41a8-ec05-1816bb02b8ab",
        "colab": {
          "base_uri": "https://localhost:8080/",
          "height": 191
        }
      },
      "source": [
        "train.head()"
      ],
      "execution_count": 541,
      "outputs": [
        {
          "output_type": "execute_result",
          "data": {
            "text/html": [
              "<div>\n",
              "<style scoped>\n",
              "    .dataframe tbody tr th:only-of-type {\n",
              "        vertical-align: middle;\n",
              "    }\n",
              "\n",
              "    .dataframe tbody tr th {\n",
              "        vertical-align: top;\n",
              "    }\n",
              "\n",
              "    .dataframe thead th {\n",
              "        text-align: right;\n",
              "    }\n",
              "</style>\n",
              "<table border=\"1\" class=\"dataframe\">\n",
              "  <thead>\n",
              "    <tr style=\"text-align: right;\">\n",
              "      <th></th>\n",
              "      <th>scaled_amount</th>\n",
              "      <th>ProviderId</th>\n",
              "      <th>ProductCategory</th>\n",
              "      <th>PricingStrategy</th>\n",
              "      <th>FraudResult</th>\n",
              "    </tr>\n",
              "  </thead>\n",
              "  <tbody>\n",
              "    <tr>\n",
              "      <th>0</th>\n",
              "      <td>0.000000</td>\n",
              "      <td>ProviderId_6</td>\n",
              "      <td>airtime</td>\n",
              "      <td>2</td>\n",
              "      <td>0</td>\n",
              "    </tr>\n",
              "    <tr>\n",
              "      <th>1</th>\n",
              "      <td>-0.207407</td>\n",
              "      <td>ProviderId_4</td>\n",
              "      <td>financial_services</td>\n",
              "      <td>2</td>\n",
              "      <td>0</td>\n",
              "    </tr>\n",
              "    <tr>\n",
              "      <th>2</th>\n",
              "      <td>-0.105820</td>\n",
              "      <td>ProviderId_6</td>\n",
              "      <td>airtime</td>\n",
              "      <td>2</td>\n",
              "      <td>0</td>\n",
              "    </tr>\n",
              "    <tr>\n",
              "      <th>3</th>\n",
              "      <td>4.402116</td>\n",
              "      <td>ProviderId_1</td>\n",
              "      <td>utility_bill</td>\n",
              "      <td>2</td>\n",
              "      <td>0</td>\n",
              "    </tr>\n",
              "    <tr>\n",
              "      <th>4</th>\n",
              "      <td>-0.075344</td>\n",
              "      <td>ProviderId_4</td>\n",
              "      <td>financial_services</td>\n",
              "      <td>2</td>\n",
              "      <td>0</td>\n",
              "    </tr>\n",
              "  </tbody>\n",
              "</table>\n",
              "</div>"
            ],
            "text/plain": [
              "   scaled_amount    ProviderId  ... PricingStrategy  FraudResult\n",
              "0       0.000000  ProviderId_6  ...               2            0\n",
              "1      -0.207407  ProviderId_4  ...               2            0\n",
              "2      -0.105820  ProviderId_6  ...               2            0\n",
              "3       4.402116  ProviderId_1  ...               2            0\n",
              "4      -0.075344  ProviderId_4  ...               2            0\n",
              "\n",
              "[5 rows x 5 columns]"
            ]
          },
          "metadata": {
            "tags": []
          },
          "execution_count": 541
        }
      ]
    },
    {
      "cell_type": "code",
      "metadata": {
        "id": "ix8aJLKUcDME",
        "colab_type": "code",
        "outputId": "523a7dc8-1148-4b4c-d3c6-f990af389d94",
        "colab": {
          "base_uri": "https://localhost:8080/",
          "height": 191
        }
      },
      "source": [
        "test.head()"
      ],
      "execution_count": 588,
      "outputs": [
        {
          "output_type": "execute_result",
          "data": {
            "text/html": [
              "<div>\n",
              "<style scoped>\n",
              "    .dataframe tbody tr th:only-of-type {\n",
              "        vertical-align: middle;\n",
              "    }\n",
              "\n",
              "    .dataframe tbody tr th {\n",
              "        vertical-align: top;\n",
              "    }\n",
              "\n",
              "    .dataframe thead th {\n",
              "        text-align: right;\n",
              "    }\n",
              "</style>\n",
              "<table border=\"1\" class=\"dataframe\">\n",
              "  <thead>\n",
              "    <tr style=\"text-align: right;\">\n",
              "      <th></th>\n",
              "      <th>ProviderId</th>\n",
              "      <th>ProductCategory</th>\n",
              "      <th>Value</th>\n",
              "      <th>PricingStrategy</th>\n",
              "      <th>seconds</th>\n",
              "    </tr>\n",
              "  </thead>\n",
              "  <tbody>\n",
              "    <tr>\n",
              "      <th>0</th>\n",
              "      <td>ProviderId_5</td>\n",
              "      <td>airtime</td>\n",
              "      <td>1000</td>\n",
              "      <td>4</td>\n",
              "      <td>36100</td>\n",
              "    </tr>\n",
              "    <tr>\n",
              "      <th>1</th>\n",
              "      <td>ProviderId_5</td>\n",
              "      <td>financial_services</td>\n",
              "      <td>2000</td>\n",
              "      <td>2</td>\n",
              "      <td>36132</td>\n",
              "    </tr>\n",
              "    <tr>\n",
              "      <th>2</th>\n",
              "      <td>ProviderId_4</td>\n",
              "      <td>financial_services</td>\n",
              "      <td>50</td>\n",
              "      <td>2</td>\n",
              "      <td>36150</td>\n",
              "    </tr>\n",
              "    <tr>\n",
              "      <th>3</th>\n",
              "      <td>ProviderId_5</td>\n",
              "      <td>airtime</td>\n",
              "      <td>3000</td>\n",
              "      <td>4</td>\n",
              "      <td>36158</td>\n",
              "    </tr>\n",
              "    <tr>\n",
              "      <th>4</th>\n",
              "      <td>ProviderId_4</td>\n",
              "      <td>financial_services</td>\n",
              "      <td>60</td>\n",
              "      <td>2</td>\n",
              "      <td>36178</td>\n",
              "    </tr>\n",
              "  </tbody>\n",
              "</table>\n",
              "</div>"
            ],
            "text/plain": [
              "     ProviderId     ProductCategory  Value  PricingStrategy  seconds\n",
              "0  ProviderId_5             airtime   1000                4    36100\n",
              "1  ProviderId_5  financial_services   2000                2    36132\n",
              "2  ProviderId_4  financial_services     50                2    36150\n",
              "3  ProviderId_5             airtime   3000                4    36158\n",
              "4  ProviderId_4  financial_services     60                2    36178"
            ]
          },
          "metadata": {
            "tags": []
          },
          "execution_count": 588
        }
      ]
    },
    {
      "cell_type": "markdown",
      "metadata": {
        "id": "Q3kimCP3T1Fp",
        "colab_type": "text"
      },
      "source": [
        "Creating dummy variables"
      ]
    },
    {
      "cell_type": "code",
      "metadata": {
        "colab_type": "code",
        "id": "w0CN10tCT-o_",
        "colab": {}
      },
      "source": [
        "train = pd.get_dummies(train, columns=['ProductCategory', 'ProviderId', 'PricingStrategy'], drop_first=True)"
      ],
      "execution_count": 0,
      "outputs": []
    },
    {
      "cell_type": "code",
      "metadata": {
        "colab_type": "code",
        "id": "MCkgs_RoT-pB",
        "colab": {}
      },
      "source": [
        "test = pd.get_dummies(test, columns=['ProductCategory', 'ProviderId', 'PricingStrategy'], drop_first=True)"
      ],
      "execution_count": 0,
      "outputs": []
    },
    {
      "cell_type": "markdown",
      "metadata": {
        "id": "KDWZxeYNVjLl",
        "colab_type": "text"
      },
      "source": [
        "Checking the correlation between variables"
      ]
    },
    {
      "cell_type": "code",
      "metadata": {
        "id": "Zxk-LzI8VnXw",
        "colab_type": "code",
        "outputId": "a8516cdc-d971-4ecb-efa5-eb2bdf36207d",
        "colab": {
          "base_uri": "https://localhost:8080/",
          "height": 364
        }
      },
      "source": [
        "print('Distribution of the Classes in the subsample dataset')\n",
        "print(new_df['FraudResult'].value_counts()/len(new_df))\n",
        "\n",
        "\n",
        "\n",
        "sns.countplot('FraudResult', data=new_df)\n",
        "plt.title('Equally Distributed Classes', fontsize=14)\n",
        "plt.show()"
      ],
      "execution_count": 0,
      "outputs": [
        {
          "output_type": "stream",
          "text": [
            "Distribution of the Classes in the subsample dataset\n",
            "1    0.5\n",
            "0    0.5\n",
            "Name: FraudResult, dtype: float64\n"
          ],
          "name": "stdout"
        },
        {
          "output_type": "display_data",
          "data": {
            "image/png": "[encoded data removed]",
            "text/plain": [
              "<Figure size 432x288 with 1 Axes>"
            ]
          },
          "metadata": {
            "tags": []
          }
        }
      ]
    },
    {
      "cell_type": "code",
      "metadata": {
        "id": "yrXd0qTCWGyL",
        "colab_type": "code",
        "outputId": "22f2bf35-f15c-4845-97fc-2e2a41d963f7",
        "colab": {
          "base_uri": "https://localhost:8080/",
          "height": 34
        }
      },
      "source": [
        "len(train[train['FraudResult'] == 1])"
      ],
      "execution_count": 0,
      "outputs": [
        {
          "output_type": "execute_result",
          "data": {
            "text/plain": [
              "193"
            ]
          },
          "metadata": {
            "tags": []
          },
          "execution_count": 328
        }
      ]
    },
    {
      "cell_type": "code",
      "metadata": {
        "id": "zoSlpq5PV25M",
        "colab_type": "code",
        "outputId": "2278496e-ee24-40cb-b395-5d5825067b71",
        "colab": {
          "base_uri": "https://localhost:8080/",
          "height": 244
        }
      },
      "source": [
        "# Since our classes are highly skewed we should make them equivalent in order to have a normal distribution of the classes.\n",
        "\n",
        "# Lets shuffle the data before creating the subsamples\n",
        "\n",
        "train = train.sample(frac=1)\n",
        "\n",
        "# amount of fraud classes 492 rows.\n",
        "fraud_train = train.loc[train['FraudResult'] == 1]\n",
        "non_fraud_train = train.loc[train['FraudResult'] == 0][:193]\n",
        "\n",
        "normal_distributed_df = pd.concat([fraud_train, non_fraud_train])\n",
        "\n",
        "# Shuffle dataframe rows\n",
        "new_df = normal_distributed_df.sample(frac=1, random_state=42)\n",
        "\n",
        "new_df."
      ],
      "execution_count": 0,
      "outputs": [
        {
          "output_type": "execute_result",
          "data": {
            "text/html": [
              "<div>\n",
              "<style scoped>\n",
              "    .dataframe tbody tr th:only-of-type {\n",
              "        vertical-align: middle;\n",
              "    }\n",
              "\n",
              "    .dataframe tbody tr th {\n",
              "        vertical-align: top;\n",
              "    }\n",
              "\n",
              "    .dataframe thead th {\n",
              "        text-align: right;\n",
              "    }\n",
              "</style>\n",
              "<table border=\"1\" class=\"dataframe\">\n",
              "  <thead>\n",
              "    <tr style=\"text-align: right;\">\n",
              "      <th></th>\n",
              "      <th>scaled_amount</th>\n",
              "      <th>scaled_seconds</th>\n",
              "      <th>FraudResult</th>\n",
              "      <th>ProductCategory_data_bundles</th>\n",
              "      <th>ProductCategory_financial_services</th>\n",
              "      <th>ProductCategory_movies</th>\n",
              "      <th>ProductCategory_other</th>\n",
              "      <th>ProductCategory_ticket</th>\n",
              "      <th>ProductCategory_transport</th>\n",
              "      <th>ProductCategory_tv</th>\n",
              "      <th>ProductCategory_utility_bill</th>\n",
              "      <th>ProviderId_ProviderId_2</th>\n",
              "      <th>ProviderId_ProviderId_3</th>\n",
              "      <th>ProviderId_ProviderId_4</th>\n",
              "      <th>ProviderId_ProviderId_5</th>\n",
              "      <th>ProviderId_ProviderId_6</th>\n",
              "      <th>PricingStrategy_1</th>\n",
              "      <th>PricingStrategy_2</th>\n",
              "      <th>PricingStrategy_4</th>\n",
              "    </tr>\n",
              "  </thead>\n",
              "  <tbody>\n",
              "    <tr>\n",
              "      <th>77461</th>\n",
              "      <td>-0.357895</td>\n",
              "      <td>0.322606</td>\n",
              "      <td>0</td>\n",
              "      <td>0</td>\n",
              "      <td>1</td>\n",
              "      <td>0</td>\n",
              "      <td>0</td>\n",
              "      <td>0</td>\n",
              "      <td>0</td>\n",
              "      <td>0</td>\n",
              "      <td>0</td>\n",
              "      <td>0</td>\n",
              "      <td>0</td>\n",
              "      <td>1</td>\n",
              "      <td>0</td>\n",
              "      <td>0</td>\n",
              "      <td>0</td>\n",
              "      <td>1</td>\n",
              "      <td>0</td>\n",
              "    </tr>\n",
              "    <tr>\n",
              "      <th>24024</th>\n",
              "      <td>0.280702</td>\n",
              "      <td>-0.100906</td>\n",
              "      <td>0</td>\n",
              "      <td>0</td>\n",
              "      <td>0</td>\n",
              "      <td>0</td>\n",
              "      <td>0</td>\n",
              "      <td>0</td>\n",
              "      <td>0</td>\n",
              "      <td>0</td>\n",
              "      <td>0</td>\n",
              "      <td>0</td>\n",
              "      <td>0</td>\n",
              "      <td>0</td>\n",
              "      <td>0</td>\n",
              "      <td>1</td>\n",
              "      <td>0</td>\n",
              "      <td>1</td>\n",
              "      <td>0</td>\n",
              "    </tr>\n",
              "    <tr>\n",
              "      <th>95264</th>\n",
              "      <td>175.087719</td>\n",
              "      <td>1.037052</td>\n",
              "      <td>1</td>\n",
              "      <td>0</td>\n",
              "      <td>1</td>\n",
              "      <td>0</td>\n",
              "      <td>0</td>\n",
              "      <td>0</td>\n",
              "      <td>0</td>\n",
              "      <td>0</td>\n",
              "      <td>0</td>\n",
              "      <td>0</td>\n",
              "      <td>1</td>\n",
              "      <td>0</td>\n",
              "      <td>0</td>\n",
              "      <td>0</td>\n",
              "      <td>0</td>\n",
              "      <td>1</td>\n",
              "      <td>0</td>\n",
              "    </tr>\n",
              "    <tr>\n",
              "      <th>94261</th>\n",
              "      <td>0.000000</td>\n",
              "      <td>-0.929982</td>\n",
              "      <td>0</td>\n",
              "      <td>0</td>\n",
              "      <td>1</td>\n",
              "      <td>0</td>\n",
              "      <td>0</td>\n",
              "      <td>0</td>\n",
              "      <td>0</td>\n",
              "      <td>0</td>\n",
              "      <td>0</td>\n",
              "      <td>0</td>\n",
              "      <td>0</td>\n",
              "      <td>0</td>\n",
              "      <td>1</td>\n",
              "      <td>0</td>\n",
              "      <td>0</td>\n",
              "      <td>1</td>\n",
              "      <td>0</td>\n",
              "    </tr>\n",
              "    <tr>\n",
              "      <th>13142</th>\n",
              "      <td>701.403509</td>\n",
              "      <td>0.909140</td>\n",
              "      <td>1</td>\n",
              "      <td>0</td>\n",
              "      <td>1</td>\n",
              "      <td>0</td>\n",
              "      <td>0</td>\n",
              "      <td>0</td>\n",
              "      <td>0</td>\n",
              "      <td>0</td>\n",
              "      <td>0</td>\n",
              "      <td>0</td>\n",
              "      <td>1</td>\n",
              "      <td>0</td>\n",
              "      <td>0</td>\n",
              "      <td>0</td>\n",
              "      <td>0</td>\n",
              "      <td>1</td>\n",
              "      <td>0</td>\n",
              "    </tr>\n",
              "  </tbody>\n",
              "</table>\n",
              "</div>"
            ],
            "text/plain": [
              "       scaled_amount  scaled_seconds  ...  PricingStrategy_2  PricingStrategy_4\n",
              "77461      -0.357895        0.322606  ...                  1                  0\n",
              "24024       0.280702       -0.100906  ...                  1                  0\n",
              "95264     175.087719        1.037052  ...                  1                  0\n",
              "94261       0.000000       -0.929982  ...                  1                  0\n",
              "13142     701.403509        0.909140  ...                  1                  0\n",
              "\n",
              "[5 rows x 19 columns]"
            ]
          },
          "metadata": {
            "tags": []
          },
          "execution_count": 330
        }
      ]
    },
    {
      "cell_type": "code",
      "metadata": {
        "id": "St_ajFQLV2s9",
        "colab_type": "code",
        "outputId": "8e1db109-1b9d-4e09-c54d-3ea678b1977d",
        "colab": {
          "base_uri": "https://localhost:8080/",
          "height": 436
        }
      },
      "source": [
        "sub_sample_corr = new_df.corr()\n",
        "sns.heatmap(sub_sample_corr, cmap='coolwarm_r', annot_kws={'size':20})\n",
        "plt.show()"
      ],
      "execution_count": 0,
      "outputs": [
        {
          "output_type": "display_data",
          "data": {
            "image/png": "[encoded data removed]",
            "text/plain": [
              "<Figure size 432x288 with 2 Axes>"
            ]
          },
          "metadata": {
            "tags": []
          }
        }
      ]
    },
    {
      "cell_type": "code",
      "metadata": {
        "id": "DwGmVGoGV2Xy",
        "colab_type": "code",
        "outputId": "e76ee0ae-d932-4761-9f4a-61d5d1bd929d",
        "colab": {
          "base_uri": "https://localhost:8080/",
          "height": 436
        }
      },
      "source": [
        "sub_sample_corr = train.corr()\n",
        "sns.heatmap(sub_sample_corr, cmap='coolwarm_r', annot_kws={'size':20})\n",
        "plt.show()"
      ],
      "execution_count": 0,
      "outputs": [
        {
          "output_type": "display_data",
          "data": {
            "image/png": "[encoded data removed]",
            "text/plain": [
              "<Figure size 432x288 with 2 Axes>"
            ]
          },
          "metadata": {
            "tags": []
          }
        }
      ]
    },
    {
      "cell_type": "code",
      "metadata": {
        "id": "BbDSRvI5XoJ9",
        "colab_type": "code",
        "colab": {}
      },
      "source": [
        "from sklearn.model_selection import train_test_split"
      ],
      "execution_count": 0,
      "outputs": []
    },
    {
      "cell_type": "code",
      "metadata": {
        "id": "5Aaxb5FoXoD5",
        "colab_type": "code",
        "colab": {}
      },
      "source": [
        "train"
      ],
      "execution_count": 0,
      "outputs": []
    },
    {
      "cell_type": "code",
      "metadata": {
        "id": "g6eR_pHbXn89",
        "colab_type": "code",
        "colab": {}
      },
      "source": [
        ""
      ],
      "execution_count": 0,
      "outputs": []
    },
    {
      "cell_type": "code",
      "metadata": {
        "id": "b86-71sbQPhm",
        "colab_type": "code",
        "outputId": "9dd7aaca-cc1c-466e-b8ce-0cae44f7eb93",
        "colab": {
          "base_uri": "https://localhost:8080/",
          "height": 136
        }
      },
      "source": [
        "train[train['FraudResult'] == 1].count()"
      ],
      "execution_count": 0,
      "outputs": [
        {
          "output_type": "execute_result",
          "data": {
            "text/plain": [
              "ProviderId         193\n",
              "ProductId          193\n",
              "ProductCategory    193\n",
              "Amount             193\n",
              "PricingStrategy    193\n",
              "FraudResult        193\n",
              "dtype: int64"
            ]
          },
          "metadata": {
            "tags": []
          },
          "execution_count": 12
        }
      ]
    },
    {
      "cell_type": "code",
      "metadata": {
        "id": "qP4f3qt5Q1yT",
        "colab_type": "code",
        "outputId": "a695c7cf-a793-44e4-80ec-e360f2cc759a",
        "colab": {
          "base_uri": "https://localhost:8080/",
          "height": 211
        }
      },
      "source": [
        "test.head()"
      ],
      "execution_count": 15,
      "outputs": [
        {
          "output_type": "execute_result",
          "data": {
            "text/html": [
              "<div>\n",
              "<style scoped>\n",
              "    .dataframe tbody tr th:only-of-type {\n",
              "        vertical-align: middle;\n",
              "    }\n",
              "\n",
              "    .dataframe tbody tr th {\n",
              "        vertical-align: top;\n",
              "    }\n",
              "\n",
              "    .dataframe thead th {\n",
              "        text-align: right;\n",
              "    }\n",
              "</style>\n",
              "<table border=\"1\" class=\"dataframe\">\n",
              "  <thead>\n",
              "    <tr style=\"text-align: right;\">\n",
              "      <th></th>\n",
              "      <th>Value</th>\n",
              "      <th>seconds</th>\n",
              "      <th>ProductCategory_data_bundles</th>\n",
              "      <th>ProductCategory_financial_services</th>\n",
              "      <th>ProductCategory_movies</th>\n",
              "      <th>ProductCategory_retail</th>\n",
              "      <th>ProductCategory_ticket</th>\n",
              "      <th>ProductCategory_transport</th>\n",
              "      <th>ProductCategory_tv</th>\n",
              "      <th>ProductCategory_utility_bill</th>\n",
              "      <th>ProviderId_ProviderId_2</th>\n",
              "      <th>ProviderId_ProviderId_3</th>\n",
              "      <th>ProviderId_ProviderId_4</th>\n",
              "      <th>ProviderId_ProviderId_5</th>\n",
              "      <th>ProviderId_ProviderId_6</th>\n",
              "      <th>PricingStrategy_1</th>\n",
              "      <th>PricingStrategy_2</th>\n",
              "      <th>PricingStrategy_4</th>\n",
              "    </tr>\n",
              "  </thead>\n",
              "  <tbody>\n",
              "    <tr>\n",
              "      <th>0</th>\n",
              "      <td>1000</td>\n",
              "      <td>36100</td>\n",
              "      <td>0</td>\n",
              "      <td>0</td>\n",
              "      <td>0</td>\n",
              "      <td>0</td>\n",
              "      <td>0</td>\n",
              "      <td>0</td>\n",
              "      <td>0</td>\n",
              "      <td>0</td>\n",
              "      <td>0</td>\n",
              "      <td>0</td>\n",
              "      <td>0</td>\n",
              "      <td>1</td>\n",
              "      <td>0</td>\n",
              "      <td>0</td>\n",
              "      <td>0</td>\n",
              "      <td>1</td>\n",
              "    </tr>\n",
              "    <tr>\n",
              "      <th>1</th>\n",
              "      <td>2000</td>\n",
              "      <td>36132</td>\n",
              "      <td>0</td>\n",
              "      <td>1</td>\n",
              "      <td>0</td>\n",
              "      <td>0</td>\n",
              "      <td>0</td>\n",
              "      <td>0</td>\n",
              "      <td>0</td>\n",
              "      <td>0</td>\n",
              "      <td>0</td>\n",
              "      <td>0</td>\n",
              "      <td>0</td>\n",
              "      <td>1</td>\n",
              "      <td>0</td>\n",
              "      <td>0</td>\n",
              "      <td>1</td>\n",
              "      <td>0</td>\n",
              "    </tr>\n",
              "    <tr>\n",
              "      <th>2</th>\n",
              "      <td>50</td>\n",
              "      <td>36150</td>\n",
              "      <td>0</td>\n",
              "      <td>1</td>\n",
              "      <td>0</td>\n",
              "      <td>0</td>\n",
              "      <td>0</td>\n",
              "      <td>0</td>\n",
              "      <td>0</td>\n",
              "      <td>0</td>\n",
              "      <td>0</td>\n",
              "      <td>0</td>\n",
              "      <td>1</td>\n",
              "      <td>0</td>\n",
              "      <td>0</td>\n",
              "      <td>0</td>\n",
              "      <td>1</td>\n",
              "      <td>0</td>\n",
              "    </tr>\n",
              "    <tr>\n",
              "      <th>3</th>\n",
              "      <td>3000</td>\n",
              "      <td>36158</td>\n",
              "      <td>0</td>\n",
              "      <td>0</td>\n",
              "      <td>0</td>\n",
              "      <td>0</td>\n",
              "      <td>0</td>\n",
              "      <td>0</td>\n",
              "      <td>0</td>\n",
              "      <td>0</td>\n",
              "      <td>0</td>\n",
              "      <td>0</td>\n",
              "      <td>0</td>\n",
              "      <td>1</td>\n",
              "      <td>0</td>\n",
              "      <td>0</td>\n",
              "      <td>0</td>\n",
              "      <td>1</td>\n",
              "    </tr>\n",
              "    <tr>\n",
              "      <th>4</th>\n",
              "      <td>60</td>\n",
              "      <td>36178</td>\n",
              "      <td>0</td>\n",
              "      <td>1</td>\n",
              "      <td>0</td>\n",
              "      <td>0</td>\n",
              "      <td>0</td>\n",
              "      <td>0</td>\n",
              "      <td>0</td>\n",
              "      <td>0</td>\n",
              "      <td>0</td>\n",
              "      <td>0</td>\n",
              "      <td>1</td>\n",
              "      <td>0</td>\n",
              "      <td>0</td>\n",
              "      <td>0</td>\n",
              "      <td>1</td>\n",
              "      <td>0</td>\n",
              "    </tr>\n",
              "  </tbody>\n",
              "</table>\n",
              "</div>"
            ],
            "text/plain": [
              "   Value  seconds  ...  PricingStrategy_2  PricingStrategy_4\n",
              "0   1000    36100  ...                  0                  1\n",
              "1   2000    36132  ...                  1                  0\n",
              "2     50    36150  ...                  1                  0\n",
              "3   3000    36158  ...                  0                  1\n",
              "4     60    36178  ...                  1                  0\n",
              "\n",
              "[5 rows x 18 columns]"
            ]
          },
          "metadata": {
            "tags": []
          },
          "execution_count": 15
        }
      ]
    },
    {
      "cell_type": "code",
      "metadata": {
        "id": "yzdy4t-8O1jw",
        "colab_type": "code",
        "outputId": "0df245ae-94ab-47d0-8ddf-67a5759cb7b2",
        "colab": {
          "base_uri": "https://localhost:8080/",
          "height": 211
        }
      },
      "source": [
        "train.head()"
      ],
      "execution_count": 16,
      "outputs": [
        {
          "output_type": "execute_result",
          "data": {
            "text/html": [
              "<div>\n",
              "<style scoped>\n",
              "    .dataframe tbody tr th:only-of-type {\n",
              "        vertical-align: middle;\n",
              "    }\n",
              "\n",
              "    .dataframe tbody tr th {\n",
              "        vertical-align: top;\n",
              "    }\n",
              "\n",
              "    .dataframe thead th {\n",
              "        text-align: right;\n",
              "    }\n",
              "</style>\n",
              "<table border=\"1\" class=\"dataframe\">\n",
              "  <thead>\n",
              "    <tr style=\"text-align: right;\">\n",
              "      <th></th>\n",
              "      <th>Value</th>\n",
              "      <th>FraudResult</th>\n",
              "      <th>seconds</th>\n",
              "      <th>ProductCategory_data_bundles</th>\n",
              "      <th>ProductCategory_financial_services</th>\n",
              "      <th>ProductCategory_movies</th>\n",
              "      <th>ProductCategory_other</th>\n",
              "      <th>ProductCategory_ticket</th>\n",
              "      <th>ProductCategory_transport</th>\n",
              "      <th>ProductCategory_tv</th>\n",
              "      <th>ProductCategory_utility_bill</th>\n",
              "      <th>ProviderId_ProviderId_2</th>\n",
              "      <th>ProviderId_ProviderId_3</th>\n",
              "      <th>ProviderId_ProviderId_4</th>\n",
              "      <th>ProviderId_ProviderId_5</th>\n",
              "      <th>ProviderId_ProviderId_6</th>\n",
              "      <th>PricingStrategy_1</th>\n",
              "      <th>PricingStrategy_2</th>\n",
              "      <th>PricingStrategy_4</th>\n",
              "    </tr>\n",
              "  </thead>\n",
              "  <tbody>\n",
              "    <tr>\n",
              "      <th>0</th>\n",
              "      <td>1000</td>\n",
              "      <td>0</td>\n",
              "      <td>8329</td>\n",
              "      <td>0</td>\n",
              "      <td>0</td>\n",
              "      <td>0</td>\n",
              "      <td>0</td>\n",
              "      <td>0</td>\n",
              "      <td>0</td>\n",
              "      <td>0</td>\n",
              "      <td>0</td>\n",
              "      <td>0</td>\n",
              "      <td>0</td>\n",
              "      <td>0</td>\n",
              "      <td>0</td>\n",
              "      <td>1</td>\n",
              "      <td>0</td>\n",
              "      <td>1</td>\n",
              "      <td>0</td>\n",
              "    </tr>\n",
              "    <tr>\n",
              "      <th>1</th>\n",
              "      <td>20</td>\n",
              "      <td>0</td>\n",
              "      <td>8348</td>\n",
              "      <td>0</td>\n",
              "      <td>1</td>\n",
              "      <td>0</td>\n",
              "      <td>0</td>\n",
              "      <td>0</td>\n",
              "      <td>0</td>\n",
              "      <td>0</td>\n",
              "      <td>0</td>\n",
              "      <td>0</td>\n",
              "      <td>0</td>\n",
              "      <td>1</td>\n",
              "      <td>0</td>\n",
              "      <td>0</td>\n",
              "      <td>0</td>\n",
              "      <td>1</td>\n",
              "      <td>0</td>\n",
              "    </tr>\n",
              "    <tr>\n",
              "      <th>2</th>\n",
              "      <td>500</td>\n",
              "      <td>0</td>\n",
              "      <td>9861</td>\n",
              "      <td>0</td>\n",
              "      <td>0</td>\n",
              "      <td>0</td>\n",
              "      <td>0</td>\n",
              "      <td>0</td>\n",
              "      <td>0</td>\n",
              "      <td>0</td>\n",
              "      <td>0</td>\n",
              "      <td>0</td>\n",
              "      <td>0</td>\n",
              "      <td>0</td>\n",
              "      <td>0</td>\n",
              "      <td>1</td>\n",
              "      <td>0</td>\n",
              "      <td>1</td>\n",
              "      <td>0</td>\n",
              "    </tr>\n",
              "    <tr>\n",
              "      <th>3</th>\n",
              "      <td>21800</td>\n",
              "      <td>0</td>\n",
              "      <td>12775</td>\n",
              "      <td>0</td>\n",
              "      <td>0</td>\n",
              "      <td>0</td>\n",
              "      <td>0</td>\n",
              "      <td>0</td>\n",
              "      <td>0</td>\n",
              "      <td>0</td>\n",
              "      <td>1</td>\n",
              "      <td>0</td>\n",
              "      <td>0</td>\n",
              "      <td>0</td>\n",
              "      <td>0</td>\n",
              "      <td>0</td>\n",
              "      <td>0</td>\n",
              "      <td>1</td>\n",
              "      <td>0</td>\n",
              "    </tr>\n",
              "    <tr>\n",
              "      <th>4</th>\n",
              "      <td>644</td>\n",
              "      <td>0</td>\n",
              "      <td>12861</td>\n",
              "      <td>0</td>\n",
              "      <td>1</td>\n",
              "      <td>0</td>\n",
              "      <td>0</td>\n",
              "      <td>0</td>\n",
              "      <td>0</td>\n",
              "      <td>0</td>\n",
              "      <td>0</td>\n",
              "      <td>0</td>\n",
              "      <td>0</td>\n",
              "      <td>1</td>\n",
              "      <td>0</td>\n",
              "      <td>0</td>\n",
              "      <td>0</td>\n",
              "      <td>1</td>\n",
              "      <td>0</td>\n",
              "    </tr>\n",
              "  </tbody>\n",
              "</table>\n",
              "</div>"
            ],
            "text/plain": [
              "   Value  FraudResult  ...  PricingStrategy_2  PricingStrategy_4\n",
              "0   1000            0  ...                  1                  0\n",
              "1     20            0  ...                  1                  0\n",
              "2    500            0  ...                  1                  0\n",
              "3  21800            0  ...                  1                  0\n",
              "4    644            0  ...                  1                  0\n",
              "\n",
              "[5 rows x 19 columns]"
            ]
          },
          "metadata": {
            "tags": []
          },
          "execution_count": 16
        }
      ]
    },
    {
      "cell_type": "code",
      "metadata": {
        "id": "G8vLqqzfex51",
        "colab_type": "code",
        "outputId": "22051156-2478-445a-bad2-4f243fc02bf3",
        "colab": {
          "base_uri": "https://localhost:8080/",
          "height": 300
        }
      },
      "source": [
        "sns.countplot('FraudResult', hue = 'ChannelId', data = new)"
      ],
      "execution_count": 0,
      "outputs": [
        {
          "output_type": "execute_result",
          "data": {
            "text/plain": [
              "<matplotlib.axes._subplots.AxesSubplot at 0x7f70d0dc2c88>"
            ]
          },
          "metadata": {
            "tags": []
          },
          "execution_count": 273
        },
        {
          "output_type": "display_data",
          "data": {
            "image/png": "[encoded data removed]",
            "text/plain": [
              "<Figure size 432x288 with 1 Axes>"
            ]
          },
          "metadata": {
            "tags": []
          }
        }
      ]
    },
    {
      "cell_type": "code",
      "metadata": {
        "id": "HV_vjUC-fzvl",
        "colab_type": "code",
        "outputId": "897560c1-03f8-4e1e-a20b-e56f0d83de91",
        "colab": {
          "base_uri": "https://localhost:8080/",
          "height": 300
        }
      },
      "source": [
        "sns.countplot('FraudResult', hue = 'ChannelId', data = new)"
      ],
      "execution_count": 0,
      "outputs": [
        {
          "output_type": "execute_result",
          "data": {
            "text/plain": [
              "<matplotlib.axes._subplots.AxesSubplot at 0x7f70d0dcca90>"
            ]
          },
          "metadata": {
            "tags": []
          },
          "execution_count": 271
        },
        {
          "output_type": "display_data",
          "data": {
            "image/png": "[encoded data removed]",
            "text/plain": [
              "<Figure size 432x288 with 1 Axes>"
            ]
          },
          "metadata": {
            "tags": []
          }
        }
      ]
    },
    {
      "cell_type": "code",
      "metadata": {
        "id": "4arTqhh30Lwq",
        "colab_type": "code",
        "colab": {}
      },
      "source": [
        "# train['CustomerId'] = train['CustomerId'].str.replace(r'[a-zA-Z]', '')\n",
        "# train['ProviderId'] = train['ProviderId'].str.replace(r'[a-zA-Z]', '')\n",
        "# train['ProductId'] = train['ProductId'].str.replace(r'[a-zA-Z]', '')\n"
      ],
      "execution_count": 0,
      "outputs": []
    },
    {
      "cell_type": "code",
      "metadata": {
        "id": "8GtbtxNJux9G",
        "colab_type": "code",
        "colab": {}
      },
      "source": [
        "test['ProviderId'] = test['ProviderId'].str.replace(r'[a-zA-Z]', '')\n",
        "test['ProductId'] = test['ProductId'].str.replace(r'[a-zA-Z]', '')"
      ],
      "execution_count": 0,
      "outputs": []
    },
    {
      "cell_type": "code",
      "metadata": {
        "id": "7g3ot5lZ8vvB",
        "colab_type": "code",
        "colab": {}
      },
      "source": [
        "import string\n",
        "def remove_punctuations(text):\n",
        "    for punctuation in string.punctuation:\n",
        "        text = text.replace(punctuation, '')\n",
        "    return text"
      ],
      "execution_count": 0,
      "outputs": []
    },
    {
      "cell_type": "code",
      "metadata": {
        "id": "et2XeOQI-eYE",
        "colab_type": "code",
        "colab": {}
      },
      "source": [
        "# train['CustomerId'] = train['CustomerId'].apply(remove_punctuations)\n",
        "train['ProviderId'] = train['ProviderId'].apply(remove_punctuations)\n",
        "train['ProductId'] = train['ProductId'].apply(remove_punctuations)"
      ],
      "execution_count": 0,
      "outputs": []
    },
    {
      "cell_type": "code",
      "metadata": {
        "id": "wPONPy6zu2BZ",
        "colab_type": "code",
        "colab": {}
      },
      "source": [
        "test['ProviderId'] = test['ProviderId'].apply(remove_punctuations)\n",
        "test['ProductId'] = test['ProductId'].apply(remove_punctuations)"
      ],
      "execution_count": 0,
      "outputs": []
    },
    {
      "cell_type": "code",
      "metadata": {
        "id": "fsT4XhyL-6Q8",
        "colab_type": "code",
        "colab": {}
      },
      "source": [
        "Fraud = train[train['FraudResult'] == 1]"
      ],
      "execution_count": 0,
      "outputs": []
    },
    {
      "cell_type": "code",
      "metadata": {
        "id": "eilBgBqg2DkQ",
        "colab_type": "code",
        "colab": {}
      },
      "source": [
        "test = test.drop('ProductId', axis = 1)\n",
        "train = train.drop('ProductId', axis = 1)"
      ],
      "execution_count": 0,
      "outputs": []
    },
    {
      "cell_type": "code",
      "metadata": {
        "id": "7JFIcg6w-7h9",
        "colab_type": "code",
        "outputId": "7e4aace7-c24e-4bb9-d41d-d4bd4bf3f5e4",
        "colab": {
          "base_uri": "https://localhost:8080/",
          "height": 211
        }
      },
      "source": [
        "train.head()"
      ],
      "execution_count": 425,
      "outputs": [
        {
          "output_type": "execute_result",
          "data": {
            "text/html": [
              "<div>\n",
              "<style scoped>\n",
              "    .dataframe tbody tr th:only-of-type {\n",
              "        vertical-align: middle;\n",
              "    }\n",
              "\n",
              "    .dataframe tbody tr th {\n",
              "        vertical-align: top;\n",
              "    }\n",
              "\n",
              "    .dataframe thead th {\n",
              "        text-align: right;\n",
              "    }\n",
              "</style>\n",
              "<table border=\"1\" class=\"dataframe\">\n",
              "  <thead>\n",
              "    <tr style=\"text-align: right;\">\n",
              "      <th></th>\n",
              "      <th>scaled_amount</th>\n",
              "      <th>scaled_seconds</th>\n",
              "      <th>FraudResult</th>\n",
              "      <th>ProductCategory_data_bundles</th>\n",
              "      <th>ProductCategory_financial_services</th>\n",
              "      <th>ProductCategory_movies</th>\n",
              "      <th>ProductCategory_other</th>\n",
              "      <th>ProductCategory_ticket</th>\n",
              "      <th>ProductCategory_transport</th>\n",
              "      <th>ProductCategory_tv</th>\n",
              "      <th>ProductCategory_utility_bill</th>\n",
              "      <th>ProviderId_ProviderId_2</th>\n",
              "      <th>ProviderId_ProviderId_3</th>\n",
              "      <th>ProviderId_ProviderId_4</th>\n",
              "      <th>ProviderId_ProviderId_5</th>\n",
              "      <th>ProviderId_ProviderId_6</th>\n",
              "      <th>PricingStrategy_1</th>\n",
              "      <th>PricingStrategy_2</th>\n",
              "      <th>PricingStrategy_4</th>\n",
              "    </tr>\n",
              "  </thead>\n",
              "  <tbody>\n",
              "    <tr>\n",
              "      <th>0</th>\n",
              "      <td>0.000000</td>\n",
              "      <td>-1.320052</td>\n",
              "      <td>0</td>\n",
              "      <td>0</td>\n",
              "      <td>0</td>\n",
              "      <td>0</td>\n",
              "      <td>0</td>\n",
              "      <td>0</td>\n",
              "      <td>0</td>\n",
              "      <td>0</td>\n",
              "      <td>0</td>\n",
              "      <td>0</td>\n",
              "      <td>0</td>\n",
              "      <td>0</td>\n",
              "      <td>0</td>\n",
              "      <td>1</td>\n",
              "      <td>0</td>\n",
              "      <td>1</td>\n",
              "      <td>0</td>\n",
              "    </tr>\n",
              "    <tr>\n",
              "      <th>1</th>\n",
              "      <td>-0.357895</td>\n",
              "      <td>-1.319405</td>\n",
              "      <td>0</td>\n",
              "      <td>0</td>\n",
              "      <td>1</td>\n",
              "      <td>0</td>\n",
              "      <td>0</td>\n",
              "      <td>0</td>\n",
              "      <td>0</td>\n",
              "      <td>0</td>\n",
              "      <td>0</td>\n",
              "      <td>0</td>\n",
              "      <td>0</td>\n",
              "      <td>1</td>\n",
              "      <td>0</td>\n",
              "      <td>0</td>\n",
              "      <td>0</td>\n",
              "      <td>1</td>\n",
              "      <td>0</td>\n",
              "    </tr>\n",
              "    <tr>\n",
              "      <th>2</th>\n",
              "      <td>-0.175439</td>\n",
              "      <td>-1.267879</td>\n",
              "      <td>0</td>\n",
              "      <td>0</td>\n",
              "      <td>0</td>\n",
              "      <td>0</td>\n",
              "      <td>0</td>\n",
              "      <td>0</td>\n",
              "      <td>0</td>\n",
              "      <td>0</td>\n",
              "      <td>0</td>\n",
              "      <td>0</td>\n",
              "      <td>0</td>\n",
              "      <td>0</td>\n",
              "      <td>0</td>\n",
              "      <td>1</td>\n",
              "      <td>0</td>\n",
              "      <td>1</td>\n",
              "      <td>0</td>\n",
              "    </tr>\n",
              "    <tr>\n",
              "      <th>3</th>\n",
              "      <td>6.666667</td>\n",
              "      <td>-1.168642</td>\n",
              "      <td>0</td>\n",
              "      <td>0</td>\n",
              "      <td>0</td>\n",
              "      <td>0</td>\n",
              "      <td>0</td>\n",
              "      <td>0</td>\n",
              "      <td>0</td>\n",
              "      <td>0</td>\n",
              "      <td>1</td>\n",
              "      <td>0</td>\n",
              "      <td>0</td>\n",
              "      <td>0</td>\n",
              "      <td>0</td>\n",
              "      <td>0</td>\n",
              "      <td>0</td>\n",
              "      <td>1</td>\n",
              "      <td>0</td>\n",
              "    </tr>\n",
              "    <tr>\n",
              "      <th>4</th>\n",
              "      <td>-0.576842</td>\n",
              "      <td>-1.165713</td>\n",
              "      <td>0</td>\n",
              "      <td>0</td>\n",
              "      <td>1</td>\n",
              "      <td>0</td>\n",
              "      <td>0</td>\n",
              "      <td>0</td>\n",
              "      <td>0</td>\n",
              "      <td>0</td>\n",
              "      <td>0</td>\n",
              "      <td>0</td>\n",
              "      <td>0</td>\n",
              "      <td>1</td>\n",
              "      <td>0</td>\n",
              "      <td>0</td>\n",
              "      <td>0</td>\n",
              "      <td>1</td>\n",
              "      <td>0</td>\n",
              "    </tr>\n",
              "  </tbody>\n",
              "</table>\n",
              "</div>"
            ],
            "text/plain": [
              "   scaled_amount  scaled_seconds  ...  PricingStrategy_2  PricingStrategy_4\n",
              "0       0.000000       -1.320052  ...                  1                  0\n",
              "1      -0.357895       -1.319405  ...                  1                  0\n",
              "2      -0.175439       -1.267879  ...                  1                  0\n",
              "3       6.666667       -1.168642  ...                  1                  0\n",
              "4      -0.576842       -1.165713  ...                  1                  0\n",
              "\n",
              "[5 rows x 19 columns]"
            ]
          },
          "metadata": {
            "tags": []
          },
          "execution_count": 425
        }
      ]
    },
    {
      "cell_type": "code",
      "metadata": {
        "id": "VaKM8HRjTK1F",
        "colab_type": "code",
        "outputId": "70a0408a-0167-4c10-cd44-7422c8f370dc",
        "colab": {
          "base_uri": "https://localhost:8080/",
          "height": 180
        }
      },
      "source": [
        "train.columns"
      ],
      "execution_count": 426,
      "outputs": [
        {
          "output_type": "execute_result",
          "data": {
            "text/plain": [
              "Index(['scaled_amount', 'scaled_seconds', 'FraudResult',\n",
              "       'ProductCategory_data_bundles', 'ProductCategory_financial_services',\n",
              "       'ProductCategory_movies', 'ProductCategory_other',\n",
              "       'ProductCategory_ticket', 'ProductCategory_transport',\n",
              "       'ProductCategory_tv', 'ProductCategory_utility_bill',\n",
              "       'ProviderId_ProviderId_2', 'ProviderId_ProviderId_3',\n",
              "       'ProviderId_ProviderId_4', 'ProviderId_ProviderId_5',\n",
              "       'ProviderId_ProviderId_6', 'PricingStrategy_1', 'PricingStrategy_2',\n",
              "       'PricingStrategy_4'],\n",
              "      dtype='object')"
            ]
          },
          "metadata": {
            "tags": []
          },
          "execution_count": 426
        }
      ]
    },
    {
      "cell_type": "code",
      "metadata": {
        "id": "O3Vl_Lp8vhL7",
        "colab_type": "code",
        "outputId": "bf326957-0d71-4c54-e954-4ca84bf5fa78",
        "colab": {
          "base_uri": "https://localhost:8080/",
          "height": 163
        }
      },
      "source": [
        "test.columns"
      ],
      "execution_count": 427,
      "outputs": [
        {
          "output_type": "execute_result",
          "data": {
            "text/plain": [
              "Index(['scaled_amount', 'scaled_seconds', 'ProductCategory_data_bundles',\n",
              "       'ProductCategory_financial_services', 'ProductCategory_movies',\n",
              "       'ProductCategory_retail', 'ProductCategory_ticket',\n",
              "       'ProductCategory_transport', 'ProductCategory_tv',\n",
              "       'ProductCategory_utility_bill', 'ProviderId_ProviderId_2',\n",
              "       'ProviderId_ProviderId_3', 'ProviderId_ProviderId_4',\n",
              "       'ProviderId_ProviderId_5', 'ProviderId_ProviderId_6',\n",
              "       'PricingStrategy_1', 'PricingStrategy_2', 'PricingStrategy_4'],\n",
              "      dtype='object')"
            ]
          },
          "metadata": {
            "tags": []
          },
          "execution_count": 427
        }
      ]
    },
    {
      "cell_type": "code",
      "metadata": {
        "id": "LxY64X80UPTc",
        "colab_type": "code",
        "colab": {}
      },
      "source": [
        "X = train.drop('FraudResult', axis = 1)\n",
        "y = train['FraudResult']"
      ],
      "execution_count": 0,
      "outputs": []
    },
    {
      "cell_type": "code",
      "metadata": {
        "id": "kbt8WFqdVJQL",
        "colab_type": "code",
        "colab": {}
      },
      "source": [
        "X_train, X_test, y_train, y_test = train_test_split(X,y, test_size = 0.20, random_state = 11)"
      ],
      "execution_count": 0,
      "outputs": []
    },
    {
      "cell_type": "code",
      "metadata": {
        "id": "Cm4HvShTVKcO",
        "colab_type": "code",
        "colab": {}
      },
      "source": [
        "from sklearn.model_selection import train_test_split"
      ],
      "execution_count": 0,
      "outputs": []
    },
    {
      "cell_type": "code",
      "metadata": {
        "id": "NfOrYZBgVY1q",
        "colab_type": "code",
        "colab": {}
      },
      "source": [
        "model = Pipeline([('model', RandomForestClassifier(n_estimators= 100))])"
      ],
      "execution_count": 0,
      "outputs": []
    },
    {
      "cell_type": "code",
      "metadata": {
        "id": "2g4Cb3lqWWJ-",
        "colab_type": "code",
        "colab": {}
      },
      "source": [
        "from sklearn.ensemble import RandomForestClassifier\n",
        "from sklearn.pipeline import Pipeline"
      ],
      "execution_count": 0,
      "outputs": []
    },
    {
      "cell_type": "code",
      "metadata": {
        "id": "fNvA2qsrWa-I",
        "colab_type": "code",
        "outputId": "78c32454-636d-4e1b-f246-064bbc33de2d",
        "colab": {
          "base_uri": "https://localhost:8080/",
          "height": 245
        }
      },
      "source": [
        "model.fit(X_train, y_train)"
      ],
      "execution_count": 55,
      "outputs": [
        {
          "output_type": "execute_result",
          "data": {
            "text/plain": [
              "Pipeline(memory=None,\n",
              "         steps=[('model',\n",
              "                 RandomForestClassifier(bootstrap=True, class_weight=None,\n",
              "                                        criterion='gini', max_depth=None,\n",
              "                                        max_features='auto',\n",
              "                                        max_leaf_nodes=None,\n",
              "                                        min_impurity_decrease=0.0,\n",
              "                                        min_impurity_split=None,\n",
              "                                        min_samples_leaf=1, min_samples_split=2,\n",
              "                                        min_weight_fraction_leaf=0.0,\n",
              "                                        n_estimators=50, n_jobs=None,\n",
              "                                        oob_score=False, random_state=None,\n",
              "                                        verbose=0, warm_start=False))],\n",
              "         verbose=False)"
            ]
          },
          "metadata": {
            "tags": []
          },
          "execution_count": 55
        }
      ]
    },
    {
      "cell_type": "code",
      "metadata": {
        "id": "O4sTqYtHvz5I",
        "colab_type": "code",
        "colab": {}
      },
      "source": [
        "predictions = model.predict(test)"
      ],
      "execution_count": 0,
      "outputs": []
    },
    {
      "cell_type": "code",
      "metadata": {
        "id": "-stKmK9SWfW6",
        "colab_type": "code",
        "colab": {}
      },
      "source": [
        "training = model.predict(X_train)\n",
        "testing = model.predict(X_test)"
      ],
      "execution_count": 0,
      "outputs": []
    },
    {
      "cell_type": "code",
      "metadata": {
        "id": "4dKHgi_3WtId",
        "colab_type": "code",
        "colab": {}
      },
      "source": [
        "from sklearn import metrics"
      ],
      "execution_count": 0,
      "outputs": []
    },
    {
      "cell_type": "code",
      "metadata": {
        "id": "cAvUvUkZrIR1",
        "colab_type": "code",
        "outputId": "6d1bc0bc-c3fa-442a-beb8-0609b63ba25c",
        "colab": {
          "base_uri": "https://localhost:8080/",
          "height": 50
        }
      },
      "source": [
        "print(metrics.f1_score(y_train, training))\n",
        "print(metrics.f1_score(y_test, testing))"
      ],
      "execution_count": 58,
      "outputs": [
        {
          "output_type": "stream",
          "text": [
            "0.9968652037617556\n",
            "0.8533333333333334\n"
          ],
          "name": "stdout"
        }
      ]
    },
    {
      "cell_type": "code",
      "metadata": {
        "id": "n_FFuHAmb1LX",
        "colab_type": "code",
        "outputId": "12702880-3440-4115-c8d7-e0571d8def62",
        "colab": {
          "base_uri": "https://localhost:8080/",
          "height": 50
        }
      },
      "source": [
        "print(metrics.f1_score(y_train, training))\n",
        "print(metrics.f1_score(y_test, testing))"
      ],
      "execution_count": 577,
      "outputs": [
        {
          "output_type": "stream",
          "text": [
            "0.8927335640138409\n",
            "0.923076923076923\n"
          ],
          "name": "stdout"
        }
      ]
    },
    {
      "cell_type": "code",
      "metadata": {
        "id": "GLh-BzzjWv0_",
        "colab_type": "code",
        "outputId": "e9b2b117-c240-4635-a0d2-d0c4df8afe31",
        "colab": {
          "base_uri": "https://localhost:8080/",
          "height": 163
        }
      },
      "source": [
        "print(metrics.classification_report(y_test, testing))"
      ],
      "execution_count": 553,
      "outputs": [
        {
          "output_type": "stream",
          "text": [
            "              precision    recall  f1-score   support\n",
            "\n",
            "           0       1.00      1.00      1.00     19099\n",
            "           1       0.84      0.94      0.89        34\n",
            "\n",
            "    accuracy                           1.00     19133\n",
            "   macro avg       0.92      0.97      0.94     19133\n",
            "weighted avg       1.00      1.00      1.00     19133\n",
            "\n"
          ],
          "name": "stdout"
        }
      ]
    },
    {
      "cell_type": "code",
      "metadata": {
        "id": "GtVi1cFHW-Uw",
        "colab_type": "code",
        "colab": {}
      },
      "source": [
        "from imblearn.over_sampling import SMOTE"
      ],
      "execution_count": 0,
      "outputs": []
    },
    {
      "cell_type": "code",
      "metadata": {
        "id": "ZYgHvTrMYXqP",
        "colab_type": "code",
        "colab": {}
      },
      "source": [
        "sm = SMOTE(random_state=27, ratio=1.0)"
      ],
      "execution_count": 0,
      "outputs": []
    },
    {
      "cell_type": "code",
      "metadata": {
        "id": "FZm5U8f4Ygez",
        "colab_type": "code",
        "colab": {}
      },
      "source": [
        "sm_X_train, sm_y_train = sm.fit_sample(X_train, y_train)"
      ],
      "execution_count": 0,
      "outputs": []
    },
    {
      "cell_type": "code",
      "metadata": {
        "id": "6Y56jnGUeSQ_",
        "colab_type": "code",
        "outputId": "cc26d75f-0eb4-40c9-91d1-65db3e942346",
        "colab": {
          "base_uri": "https://localhost:8080/",
          "height": 50
        }
      },
      "source": [
        "smote = RandomForestClassifier().fit(sm_X_train, sm_y_train)"
      ],
      "execution_count": 557,
      "outputs": [
        {
          "output_type": "stream",
          "text": [
            "/usr/local/lib/python3.6/dist-packages/sklearn/ensemble/forest.py:245: FutureWarning: The default value of n_estimators will change from 10 in version 0.20 to 100 in 0.22.\n",
            "  \"10 in version 0.20 to 100 in 0.22.\", FutureWarning)\n"
          ],
          "name": "stderr"
        }
      ]
    },
    {
      "cell_type": "code",
      "metadata": {
        "id": "tRw61QaLef_0",
        "colab_type": "code",
        "colab": {}
      },
      "source": [
        "predictions = smote.predict(test)"
      ],
      "execution_count": 0,
      "outputs": []
    },
    {
      "cell_type": "code",
      "metadata": {
        "id": "NKtcEWV8emZF",
        "colab_type": "code",
        "outputId": "37a11528-c608-4d25-80e6-0dc06b7da84d",
        "colab": {
          "base_uri": "https://localhost:8080/",
          "height": 33
        }
      },
      "source": [
        "metrics.f1_score(y_test, smote_pred)"
      ],
      "execution_count": 559,
      "outputs": [
        {
          "output_type": "execute_result",
          "data": {
            "text/plain": [
              "0.6213592233009708"
            ]
          },
          "metadata": {
            "tags": []
          },
          "execution_count": 559
        }
      ]
    },
    {
      "cell_type": "code",
      "metadata": {
        "id": "pkhhywEek5e6",
        "colab_type": "code",
        "colab": {}
      },
      "source": [
        "from sklearn.model_selection import cross_val_score"
      ],
      "execution_count": 0,
      "outputs": []
    },
    {
      "cell_type": "code",
      "metadata": {
        "id": "hD8ZxUK2lpDg",
        "colab_type": "code",
        "colab": {}
      },
      "source": [
        "scores = cross_val_score(model, X, y, scoring='f1', cv = 5)"
      ],
      "execution_count": 0,
      "outputs": []
    },
    {
      "cell_type": "code",
      "metadata": {
        "id": "n1VJVf1LlxuZ",
        "colab_type": "code",
        "outputId": "275e486a-a2c5-4e58-9abc-14bc5bb26a37",
        "colab": {
          "base_uri": "https://localhost:8080/",
          "height": 33
        }
      },
      "source": [
        "scores.mean()"
      ],
      "execution_count": 497,
      "outputs": [
        {
          "output_type": "execute_result",
          "data": {
            "text/plain": [
              "0.8124153859788639"
            ]
          },
          "metadata": {
            "tags": []
          },
          "execution_count": 497
        }
      ]
    },
    {
      "cell_type": "code",
      "metadata": {
        "id": "xDZfhpZzl02G",
        "colab_type": "code",
        "colab": {}
      },
      "source": [
        "import sklearn"
      ],
      "execution_count": 0,
      "outputs": []
    },
    {
      "cell_type": "code",
      "metadata": {
        "id": "5oIXkpE3l4hg",
        "colab_type": "code",
        "colab": {}
      },
      "source": [
        "n_estimators = [10, 100, 1000, 2000]\n",
        "max_depth = [None, 5, 10, 20]\n",
        "param_grid = dict(n_estimators=n_estimators, max_depth=max_depth)"
      ],
      "execution_count": 0,
      "outputs": []
    },
    {
      "cell_type": "code",
      "metadata": {
        "id": "5vPkj5Fnm8TO",
        "colab_type": "code",
        "colab": {}
      },
      "source": [
        "rf = RandomForestClassifier()\n"
      ],
      "execution_count": 0,
      "outputs": []
    },
    {
      "cell_type": "code",
      "metadata": {
        "id": "ykt5q1pvnD2T",
        "colab_type": "code",
        "colab": {}
      },
      "source": [
        "from sklearn.model_selection import GridSearchCV, cross_val_score\n",
        "grid = GridSearchCV(estimator=rf, \n",
        "                    param_grid=param_grid,\n",
        "                    cv=3,\n",
        "                    verbose=2,\n",
        "                    n_jobs=-1)"
      ],
      "execution_count": 0,
      "outputs": []
    },
    {
      "cell_type": "code",
      "metadata": {
        "id": "xEdiZVsqnIF7",
        "colab_type": "code",
        "colab": {}
      },
      "source": [
        "grid_result = grid.fit(X_train, y_train)"
      ],
      "execution_count": 0,
      "outputs": []
    },
    {
      "cell_type": "code",
      "metadata": {
        "id": "-KYp4V-bnV8p",
        "colab_type": "code",
        "outputId": "9bfcd1d2-520d-43d6-8672-84de2f7a01db",
        "colab": {
          "base_uri": "https://localhost:8080/",
          "height": 34
        }
      },
      "source": [
        "grid_result.best_score_"
      ],
      "execution_count": 0,
      "outputs": [
        {
          "output_type": "execute_result",
          "data": {
            "text/plain": [
              "0.999320519018934"
            ]
          },
          "metadata": {
            "tags": []
          },
          "execution_count": 67
        }
      ]
    },
    {
      "cell_type": "code",
      "metadata": {
        "id": "pSm5TSBlpchh",
        "colab_type": "code",
        "outputId": "d2ad4fb6-cb65-4c93-c76b-65196733127e",
        "colab": {
          "base_uri": "https://localhost:8080/",
          "height": 136
        }
      },
      "source": [
        "grid_result.best_estimator_"
      ],
      "execution_count": 0,
      "outputs": [
        {
          "output_type": "execute_result",
          "data": {
            "text/plain": [
              "RandomForestClassifier(bootstrap=True, class_weight=None, criterion='gini',\n",
              "                       max_depth=10, max_features='auto', max_leaf_nodes=None,\n",
              "                       min_impurity_decrease=0.0, min_impurity_split=None,\n",
              "                       min_samples_leaf=1, min_samples_split=2,\n",
              "                       min_weight_fraction_leaf=0.0, n_estimators=100,\n",
              "                       n_jobs=None, oob_score=False, random_state=42, verbose=0,\n",
              "                       warm_start=False)"
            ]
          },
          "metadata": {
            "tags": []
          },
          "execution_count": 68
        }
      ]
    },
    {
      "cell_type": "code",
      "metadata": {
        "id": "fFto3BonpkJc",
        "colab_type": "code",
        "colab": {}
      },
      "source": [
        "model = RandomForestClassifier(bootstrap=True, class_weight=None, criterion='gini',\n",
        "                       max_depth=None, max_features='auto', max_leaf_nodes=None,\n",
        "                       min_impurity_decrease=0.0, min_impurity_split=None,\n",
        "                       min_samples_leaf=1, min_samples_split=2,\n",
        "                       min_weight_fraction_leaf=0.0, n_estimators=150,\n",
        "                       n_jobs=None, oob_score=False, random_state=42, verbose=0,\n",
        "                       warm_start=False)"
      ],
      "execution_count": 0,
      "outputs": []
    },
    {
      "cell_type": "code",
      "metadata": {
        "id": "E_J5PF0ppsl8",
        "colab_type": "code",
        "outputId": "8464f603-3cfc-4b27-b6a9-871afe721f15",
        "colab": {
          "base_uri": "https://localhost:8080/",
          "height": 34
        }
      },
      "source": [
        "grid_result.best_params_"
      ],
      "execution_count": 0,
      "outputs": [
        {
          "output_type": "execute_result",
          "data": {
            "text/plain": [
              "{'max_depth': 10, 'n_estimators': 100}"
            ]
          },
          "metadata": {
            "tags": []
          },
          "execution_count": 71
        }
      ]
    },
    {
      "cell_type": "code",
      "metadata": {
        "id": "8Z0uhX_MpwyE",
        "colab_type": "code",
        "colab": {}
      },
      "source": [
        "leaf_samples = [1, 2, 3, 4, 5, 6]\n",
        "param_grid = dict(min_samples_leaf=leaf_samples)"
      ],
      "execution_count": 0,
      "outputs": []
    },
    {
      "cell_type": "code",
      "metadata": {
        "id": "EvbUg5qWq8tP",
        "colab_type": "code",
        "colab": {}
      },
      "source": [
        "rf = grid_result.best_estimator_"
      ],
      "execution_count": 0,
      "outputs": []
    },
    {
      "cell_type": "code",
      "metadata": {
        "id": "ZfqaK1hUrnVy",
        "colab_type": "code",
        "colab": {}
      },
      "source": [
        "grid = GridSearchCV(estimator=rf, \n",
        "                    param_grid=param_grid,\n",
        "                    cv=3,\n",
        "                    verbose=2,\n",
        "                    n_jobs=-1)"
      ],
      "execution_count": 0,
      "outputs": []
    },
    {
      "cell_type": "code",
      "metadata": {
        "id": "NaTB_aulrqwe",
        "colab_type": "code",
        "outputId": "c1cde6d3-ae8d-45bf-f02d-15b6cbbbdce8",
        "colab": {
          "base_uri": "https://localhost:8080/",
          "height": 68
        }
      },
      "source": [
        "grid_result = grid.fit(X_train, y_train)"
      ],
      "execution_count": 0,
      "outputs": [
        {
          "output_type": "stream",
          "text": [
            "Fitting 3 folds for each of 6 candidates, totalling 18 fits\n"
          ],
          "name": "stdout"
        },
        {
          "output_type": "stream",
          "text": [
            "[Parallel(n_jobs=-1)]: Using backend LokyBackend with 2 concurrent workers.\n",
            "[Parallel(n_jobs=-1)]: Done  18 out of  18 | elapsed:   20.7s finished\n"
          ],
          "name": "stderr"
        }
      ]
    },
    {
      "cell_type": "code",
      "metadata": {
        "id": "TWlIXB2CrtAF",
        "colab_type": "code",
        "colab": {}
      },
      "source": [
        "max_features = [5, 8, 10, 12, None]\n",
        "bootstrap = [True, False]\n",
        "param_grid = dict(max_features=max_features, bootstrap=bootstrap)"
      ],
      "execution_count": 0,
      "outputs": []
    },
    {
      "cell_type": "code",
      "metadata": {
        "id": "IeMBu2N6sGJa",
        "colab_type": "code",
        "colab": {}
      },
      "source": [
        "rf = grid_result.best_estimator_"
      ],
      "execution_count": 0,
      "outputs": []
    },
    {
      "cell_type": "code",
      "metadata": {
        "id": "nAAcjwh7sJX6",
        "colab_type": "code",
        "colab": {}
      },
      "source": [
        "grid = GridSearchCV(estimator=rf, \n",
        "                    param_grid=param_grid,\n",
        "                    cv=3,\n",
        "                    verbose=2,\n",
        "                    n_jobs=-1)"
      ],
      "execution_count": 0,
      "outputs": []
    },
    {
      "cell_type": "code",
      "metadata": {
        "id": "qfVaXGmhsLH4",
        "colab_type": "code",
        "outputId": "5a38598b-ae2d-4486-f14d-7d0436a6645c",
        "colab": {
          "base_uri": "https://localhost:8080/",
          "height": 68
        }
      },
      "source": [
        "grid_result = grid.fit(X_train, y_train)"
      ],
      "execution_count": 0,
      "outputs": [
        {
          "output_type": "stream",
          "text": [
            "Fitting 3 folds for each of 10 candidates, totalling 30 fits\n"
          ],
          "name": "stdout"
        },
        {
          "output_type": "stream",
          "text": [
            "[Parallel(n_jobs=-1)]: Using backend LokyBackend with 2 concurrent workers.\n",
            "[Parallel(n_jobs=-1)]: Done  30 out of  30 | elapsed:  1.1min finished\n"
          ],
          "name": "stderr"
        }
      ]
    },
    {
      "cell_type": "code",
      "metadata": {
        "id": "qC6L4QpysMzV",
        "colab_type": "code",
        "colab": {}
      },
      "source": [
        "testing = rf.predict(X_test)"
      ],
      "execution_count": 0,
      "outputs": []
    },
    {
      "cell_type": "code",
      "metadata": {
        "id": "Wm_0wo72soVp",
        "colab_type": "code",
        "outputId": "0421bdce-122f-4bdc-d1fc-75594a823808",
        "colab": {
          "base_uri": "https://localhost:8080/",
          "height": 34
        }
      },
      "source": [
        "metrics.f1_score(y_test, testing)"
      ],
      "execution_count": 0,
      "outputs": [
        {
          "output_type": "execute_result",
          "data": {
            "text/plain": [
              "0.8732394366197184"
            ]
          },
          "metadata": {
            "tags": []
          },
          "execution_count": 92
        }
      ]
    },
    {
      "cell_type": "code",
      "metadata": {
        "id": "dCs2KZvQsuhr",
        "colab_type": "code",
        "colab": {}
      },
      "source": [
        "rf = grid_result.best_estimator_"
      ],
      "execution_count": 0,
      "outputs": []
    },
    {
      "cell_type": "code",
      "metadata": {
        "id": "gqS-s6AJs74k",
        "colab_type": "code",
        "outputId": "28ca2b08-1903-4fec-f79b-a35b84594b27",
        "colab": {
          "base_uri": "https://localhost:8080/",
          "height": 34
        }
      },
      "source": [
        "cross_val_score(rf, X, y, scoring='f1', cv=5).mean()"
      ],
      "execution_count": 0,
      "outputs": [
        {
          "output_type": "execute_result",
          "data": {
            "text/plain": [
              "0.8486430602525408"
            ]
          },
          "metadata": {
            "tags": []
          },
          "execution_count": 95
        }
      ]
    },
    {
      "cell_type": "code",
      "metadata": {
        "id": "_YVRFUc-sCFP",
        "colab_type": "code",
        "outputId": "45f8c5a9-1844-488e-8b5b-a085adaa6e77",
        "colab": {
          "base_uri": "https://localhost:8080/",
          "height": 34
        }
      },
      "source": [
        "cross_val_score(model, X_train, y_train, scoring='f1', cv=5).mean()"
      ],
      "execution_count": 0,
      "outputs": [
        {
          "output_type": "execute_result",
          "data": {
            "text/plain": [
              "0.8249296536796535"
            ]
          },
          "metadata": {
            "tags": []
          },
          "execution_count": 96
        }
      ]
    },
    {
      "cell_type": "code",
      "metadata": {
        "id": "WkThdnpytCLs",
        "colab_type": "code",
        "outputId": "77892800-90a2-411d-f5df-20224487a66d",
        "colab": {
          "base_uri": "https://localhost:8080/",
          "height": 34
        }
      },
      "source": [
        "test.shape"
      ],
      "execution_count": 0,
      "outputs": [
        {
          "output_type": "execute_result",
          "data": {
            "text/plain": [
              "(45019, 15)"
            ]
          },
          "metadata": {
            "tags": []
          },
          "execution_count": 69
        }
      ]
    },
    {
      "cell_type": "code",
      "metadata": {
        "id": "9ltqLCKswj1b",
        "colab_type": "code",
        "outputId": "b01b9241-46e5-4af9-85ed-5ed66fa3b59b",
        "colab": {
          "base_uri": "https://localhost:8080/",
          "height": 34
        }
      },
      "source": [
        "X.shape"
      ],
      "execution_count": 0,
      "outputs": [
        {
          "output_type": "execute_result",
          "data": {
            "text/plain": [
              "(95662, 15)"
            ]
          },
          "metadata": {
            "tags": []
          },
          "execution_count": 70
        }
      ]
    },
    {
      "cell_type": "code",
      "metadata": {
        "id": "uZ6y1qGUwsqm",
        "colab_type": "code",
        "outputId": "7a238de0-e3d2-4299-9865-4fa2c447dff9",
        "colab": {
          "base_uri": "https://localhost:8080/",
          "height": 70
        }
      },
      "source": [
        "test['ProductCategory'].unique()"
      ],
      "execution_count": 0,
      "outputs": [
        {
          "output_type": "execute_result",
          "data": {
            "text/plain": [
              "array(['airtime', 'financial_services', 'tv', 'utility_bill',\n",
              "       'data_bundles', 'movies', 'ticket', 'retail', 'transport'],\n",
              "      dtype=object)"
            ]
          },
          "metadata": {
            "tags": []
          },
          "execution_count": 221
        }
      ]
    },
    {
      "cell_type": "code",
      "metadata": {
        "id": "DJfcLANYyJnC",
        "colab_type": "code",
        "outputId": "b2e596d7-f08f-467e-ce36-14e64aefda2c",
        "colab": {
          "base_uri": "https://localhost:8080/",
          "height": 34
        }
      },
      "source": [
        "test.shape"
      ],
      "execution_count": 0,
      "outputs": [
        {
          "output_type": "execute_result",
          "data": {
            "text/plain": [
              "(45019, 15)"
            ]
          },
          "metadata": {
            "tags": []
          },
          "execution_count": 218
        }
      ]
    },
    {
      "cell_type": "code",
      "metadata": {
        "id": "JDb4hX9WyMPa",
        "colab_type": "code",
        "outputId": "53a0e7ac-7df0-4da7-c356-9087a38a677e",
        "colab": {
          "base_uri": "https://localhost:8080/",
          "height": 34
        }
      },
      "source": [
        "X.shape"
      ],
      "execution_count": 0,
      "outputs": [
        {
          "output_type": "execute_result",
          "data": {
            "text/plain": [
              "(95662, 37)"
            ]
          },
          "metadata": {
            "tags": []
          },
          "execution_count": 222
        }
      ]
    },
    {
      "cell_type": "code",
      "metadata": {
        "id": "PHdyX7WEz5gZ",
        "colab_type": "code",
        "colab": {}
      },
      "source": [
        "test = test.drop(test[test['ProductId'] == '26'].index)"
      ],
      "execution_count": 0,
      "outputs": []
    },
    {
      "cell_type": "code",
      "metadata": {
        "id": "dFD7pQI_1xme",
        "colab_type": "code",
        "outputId": "ac8d07c7-711d-41d7-df22-02444487d154",
        "colab": {
          "base_uri": "https://localhost:8080/",
          "height": 34
        }
      },
      "source": [
        "test[test['ProductId'] == '26'].index"
      ],
      "execution_count": 0,
      "outputs": [
        {
          "output_type": "execute_result",
          "data": {
            "text/plain": [
              "Int64Index([], dtype='int64')"
            ]
          },
          "metadata": {
            "tags": []
          },
          "execution_count": 243
        }
      ]
    },
    {
      "cell_type": "code",
      "metadata": {
        "id": "BfKtsNUDsxLN",
        "colab_type": "code",
        "outputId": "cfe72304-b6d1-4a82-fb14-e33a0d4a0f65",
        "colab": {
          "base_uri": "https://localhost:8080/",
          "height": 136
        }
      },
      "source": [
        "rf.fit(X,y)"
      ],
      "execution_count": 0,
      "outputs": [
        {
          "output_type": "execute_result",
          "data": {
            "text/plain": [
              "RandomForestClassifier(bootstrap=False, class_weight=None, criterion='gini',\n",
              "                       max_depth=10, max_features=8, max_leaf_nodes=None,\n",
              "                       min_impurity_decrease=0.0, min_impurity_split=None,\n",
              "                       min_samples_leaf=1, min_samples_split=2,\n",
              "                       min_weight_fraction_leaf=0.0, n_estimators=100,\n",
              "                       n_jobs=None, oob_score=False, random_state=42, verbose=0,\n",
              "                       warm_start=False)"
            ]
          },
          "metadata": {
            "tags": []
          },
          "execution_count": 99
        }
      ]
    },
    {
      "cell_type": "code",
      "metadata": {
        "id": "do_nTo3G10ao",
        "colab_type": "code",
        "colab": {}
      },
      "source": [
        "new_prediction = rf.predict(test)"
      ],
      "execution_count": 0,
      "outputs": []
    },
    {
      "cell_type": "code",
      "metadata": {
        "id": "4Gx5ODNesi0r",
        "colab_type": "code",
        "colab": {}
      },
      "source": [
        "submission = pd.DataFrame({'TransactionId': test_id, 'FraudResult': predictions})"
      ],
      "execution_count": 0,
      "outputs": []
    },
    {
      "cell_type": "code",
      "metadata": {
        "id": "rtdsgaWxskb2",
        "colab_type": "code",
        "outputId": "33091dbb-36a3-4ba2-89f9-d88461b01967",
        "colab": {
          "base_uri": "https://localhost:8080/",
          "height": 66
        }
      },
      "source": [
        "submission[submission['FraudResult'] == 1].count()"
      ],
      "execution_count": 65,
      "outputs": [
        {
          "output_type": "execute_result",
          "data": {
            "text/plain": [
              "TransactionId    75\n",
              "FraudResult      75\n",
              "dtype: int64"
            ]
          },
          "metadata": {
            "tags": []
          },
          "execution_count": 65
        }
      ]
    },
    {
      "cell_type": "code",
      "metadata": {
        "id": "WlsQQ301s_e1",
        "colab_type": "code",
        "colab": {}
      },
      "source": [
        "submission.to_csv('/content/gdrive/My Drive/Kaggle Hackathon/Zindi_Sub.csv', index = False)"
      ],
      "execution_count": 0,
      "outputs": []
    },
    {
      "cell_type": "code",
      "metadata": {
        "id": "IZRyMcKtuJPS",
        "colab_type": "code",
        "colab": {}
      },
      "source": [
        "submisson = pd.read_csv('/content/gdrive/My Drive/Kaggle Hackathon/Zindi_Sub.csv').head()"
      ],
      "execution_count": 0,
      "outputs": []
    },
    {
      "cell_type": "code",
      "metadata": {
        "id": "P_gRkurcn9hr",
        "colab_type": "code",
        "colab": {}
      },
      "source": [
        "predictions = smote.predict(test)"
      ],
      "execution_count": 0,
      "outputs": []
    },
    {
      "cell_type": "code",
      "metadata": {
        "id": "zNe7-6ziuaHy",
        "colab_type": "code",
        "outputId": "b9b41fe5-8f9a-4355-b073-2f0ed5192cb6",
        "colab": {
          "base_uri": "https://localhost:8080/",
          "height": 244
        }
      },
      "source": [
        "test.head()"
      ],
      "execution_count": 0,
      "outputs": [
        {
          "output_type": "execute_result",
          "data": {
            "text/html": [
              "<div>\n",
              "<style scoped>\n",
              "    .dataframe tbody tr th:only-of-type {\n",
              "        vertical-align: middle;\n",
              "    }\n",
              "\n",
              "    .dataframe tbody tr th {\n",
              "        vertical-align: top;\n",
              "    }\n",
              "\n",
              "    .dataframe thead th {\n",
              "        text-align: right;\n",
              "    }\n",
              "</style>\n",
              "<table border=\"1\" class=\"dataframe\">\n",
              "  <thead>\n",
              "    <tr style=\"text-align: right;\">\n",
              "      <th></th>\n",
              "      <th>scaled_amount</th>\n",
              "      <th>scaled_seconds</th>\n",
              "      <th>ProductCategory_data_bundles</th>\n",
              "      <th>ProductCategory_financial_services</th>\n",
              "      <th>ProductCategory_movies</th>\n",
              "      <th>ProductCategory_retail</th>\n",
              "      <th>ProductCategory_ticket</th>\n",
              "      <th>ProductCategory_transport</th>\n",
              "      <th>ProductCategory_tv</th>\n",
              "      <th>ProductCategory_utility_bill</th>\n",
              "      <th>ProviderId_ProviderId_2</th>\n",
              "      <th>ProviderId_ProviderId_3</th>\n",
              "      <th>ProviderId_ProviderId_4</th>\n",
              "      <th>ProviderId_ProviderId_5</th>\n",
              "      <th>ProviderId_ProviderId_6</th>\n",
              "      <th>PricingStrategy_1</th>\n",
              "      <th>PricingStrategy_2</th>\n",
              "      <th>PricingStrategy_4</th>\n",
              "    </tr>\n",
              "  </thead>\n",
              "  <tbody>\n",
              "    <tr>\n",
              "      <th>0</th>\n",
              "      <td>0.000000</td>\n",
              "      <td>-0.394024</td>\n",
              "      <td>0</td>\n",
              "      <td>0</td>\n",
              "      <td>0</td>\n",
              "      <td>0</td>\n",
              "      <td>0</td>\n",
              "      <td>0</td>\n",
              "      <td>0</td>\n",
              "      <td>0</td>\n",
              "      <td>0</td>\n",
              "      <td>0</td>\n",
              "      <td>0</td>\n",
              "      <td>1</td>\n",
              "      <td>0</td>\n",
              "      <td>0</td>\n",
              "      <td>0</td>\n",
              "      <td>1</td>\n",
              "    </tr>\n",
              "    <tr>\n",
              "      <th>1</th>\n",
              "      <td>0.198020</td>\n",
              "      <td>-0.392943</td>\n",
              "      <td>0</td>\n",
              "      <td>1</td>\n",
              "      <td>0</td>\n",
              "      <td>0</td>\n",
              "      <td>0</td>\n",
              "      <td>0</td>\n",
              "      <td>0</td>\n",
              "      <td>0</td>\n",
              "      <td>0</td>\n",
              "      <td>0</td>\n",
              "      <td>0</td>\n",
              "      <td>1</td>\n",
              "      <td>0</td>\n",
              "      <td>0</td>\n",
              "      <td>1</td>\n",
              "      <td>0</td>\n",
              "    </tr>\n",
              "    <tr>\n",
              "      <th>2</th>\n",
              "      <td>-0.207921</td>\n",
              "      <td>-0.392336</td>\n",
              "      <td>0</td>\n",
              "      <td>1</td>\n",
              "      <td>0</td>\n",
              "      <td>0</td>\n",
              "      <td>0</td>\n",
              "      <td>0</td>\n",
              "      <td>0</td>\n",
              "      <td>0</td>\n",
              "      <td>0</td>\n",
              "      <td>0</td>\n",
              "      <td>1</td>\n",
              "      <td>0</td>\n",
              "      <td>0</td>\n",
              "      <td>0</td>\n",
              "      <td>1</td>\n",
              "      <td>0</td>\n",
              "    </tr>\n",
              "    <tr>\n",
              "      <th>3</th>\n",
              "      <td>0.396040</td>\n",
              "      <td>-0.392066</td>\n",
              "      <td>0</td>\n",
              "      <td>0</td>\n",
              "      <td>0</td>\n",
              "      <td>0</td>\n",
              "      <td>0</td>\n",
              "      <td>0</td>\n",
              "      <td>0</td>\n",
              "      <td>0</td>\n",
              "      <td>0</td>\n",
              "      <td>0</td>\n",
              "      <td>0</td>\n",
              "      <td>1</td>\n",
              "      <td>0</td>\n",
              "      <td>0</td>\n",
              "      <td>0</td>\n",
              "      <td>1</td>\n",
              "    </tr>\n",
              "    <tr>\n",
              "      <th>4</th>\n",
              "      <td>-0.209901</td>\n",
              "      <td>-0.391390</td>\n",
              "      <td>0</td>\n",
              "      <td>1</td>\n",
              "      <td>0</td>\n",
              "      <td>0</td>\n",
              "      <td>0</td>\n",
              "      <td>0</td>\n",
              "      <td>0</td>\n",
              "      <td>0</td>\n",
              "      <td>0</td>\n",
              "      <td>0</td>\n",
              "      <td>1</td>\n",
              "      <td>0</td>\n",
              "      <td>0</td>\n",
              "      <td>0</td>\n",
              "      <td>1</td>\n",
              "      <td>0</td>\n",
              "    </tr>\n",
              "  </tbody>\n",
              "</table>\n",
              "</div>"
            ],
            "text/plain": [
              "   scaled_amount  scaled_seconds  ...  PricingStrategy_2  PricingStrategy_4\n",
              "0       0.000000       -0.394024  ...                  0                  1\n",
              "1       0.198020       -0.392943  ...                  1                  0\n",
              "2      -0.207921       -0.392336  ...                  1                  0\n",
              "3       0.396040       -0.392066  ...                  0                  1\n",
              "4      -0.209901       -0.391390  ...                  1                  0\n",
              "\n",
              "[5 rows x 18 columns]"
            ]
          },
          "metadata": {
            "tags": []
          },
          "execution_count": 372
        }
      ]
    },
    {
      "cell_type": "code",
      "metadata": {
        "id": "iaNrT6JlgcCi",
        "colab_type": "code",
        "colab": {}
      },
      "source": [
        "from sklearn.utils import resample\n",
        "\n",
        "# Separate input features and target\n",
        "y = train.FraudResult\n",
        "X = train.drop('FraudResult', axis=1)\n",
        "\n",
        "# setting up testing and training sets\n",
        "X_train, X_test, y_train, y_test = train_test_split(X, y, test_size=0.25, random_state=27)\n",
        "\n",
        "# concatenate our training data back together\n",
        "X = pd.concat([X_train, y_train], axis=1)\n",
        "\n",
        "# separate minority and majority classes\n",
        "not_fraud = X[X.FraudResult==0]\n",
        "fraud = X[X.FraudResult==1]\n",
        "\n",
        "# upsample minority\n",
        "fraud_upsampled = resample(fraud,\n",
        "                          replace=True, # sample with replacement\n",
        "                          n_samples=len(not_fraud), # match number in majority class\n",
        "                          random_state=27) # reproducible results\n",
        "\n",
        "# combine majority and upsampled minority\n",
        "upsampled = pd.concat([not_fraud, fraud_upsampled])"
      ],
      "execution_count": 0,
      "outputs": []
    },
    {
      "cell_type": "code",
      "metadata": {
        "id": "En_6UCXWhZGH",
        "colab_type": "code",
        "colab": {}
      },
      "source": [
        "X = upsampled.drop('FraudResult', axis = 1)\n",
        "y = upsampled['FraudResult']"
      ],
      "execution_count": 0,
      "outputs": []
    },
    {
      "cell_type": "code",
      "metadata": {
        "id": "0FAVrCsahlnw",
        "colab_type": "code",
        "colab": {}
      },
      "source": [
        "X_train, X_test, y_train, y_test = train_test_split(X, y, test_size=0.25, random_state=27)"
      ],
      "execution_count": 0,
      "outputs": []
    },
    {
      "cell_type": "code",
      "metadata": {
        "id": "gaIHBKl4iVhQ",
        "colab_type": "code",
        "colab": {}
      },
      "source": [
        "predictions = model.predict(test)"
      ],
      "execution_count": 0,
      "outputs": []
    },
    {
      "cell_type": "code",
      "metadata": {
        "id": "qns5GcckswSB",
        "colab_type": "code",
        "colab": {}
      },
      "source": [
        ""
      ],
      "execution_count": 0,
      "outputs": []
    }
  ]
}